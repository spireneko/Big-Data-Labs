{
  "cells": [
    {
      "cell_type": "markdown",
      "metadata": {
        "id": "82OvPKEiEqjc"
      },
      "source": [
        "# Введение в MapReduce модель на Python\n"
      ]
    },
    {
      "cell_type": "code",
      "execution_count": 1,
      "metadata": {
        "id": "JQ2cvXLjICmI"
      },
      "outputs": [],
      "source": [
        "from typing import NamedTuple # requires python 3.6+\n",
        "from typing import Iterator"
      ]
    },
    {
      "cell_type": "code",
      "execution_count": 2,
      "metadata": {
        "id": "yjPHumVwEyEg"
      },
      "outputs": [],
      "source": [
        "def MAP(_, row:NamedTuple):\n",
        "  if (row.gender == 'female'):\n",
        "    yield (row.age, row)\n",
        "\n",
        "def REDUCE(age:str, rows:Iterator[NamedTuple]):\n",
        "  sum = 0\n",
        "  count = 0\n",
        "  for row in rows:\n",
        "    sum += row.social_contacts\n",
        "    count += 1\n",
        "  if (count > 0):\n",
        "    yield (age, sum/count)\n",
        "  else:\n",
        "    yield (age, 0)"
      ]
    },
    {
      "cell_type": "markdown",
      "metadata": {
        "id": "vBKMgpG_ilaZ"
      },
      "source": [
        "Модель элемента данных"
      ]
    },
    {
      "cell_type": "code",
      "execution_count": 3,
      "metadata": {
        "id": "Rv-XIjhTJPx3"
      },
      "outputs": [],
      "source": [
        "class User(NamedTuple):\n",
        "  id: int\n",
        "  age: str\n",
        "  social_contacts: int\n",
        "  gender: str"
      ]
    },
    {
      "cell_type": "code",
      "execution_count": 4,
      "metadata": {
        "id": "5KV0Ze2vQgu5"
      },
      "outputs": [],
      "source": [
        "input_collection = [\n",
        "    User(id=0, age=55, gender='male', social_contacts=20),\n",
        "    User(id=1, age=25, gender='female', social_contacts=240),\n",
        "    User(id=2, age=25, gender='female', social_contacts=500),\n",
        "    User(id=3, age=33, gender='female', social_contacts=800)\n",
        "]"
      ]
    },
    {
      "cell_type": "markdown",
      "metadata": {
        "id": "YFeqzyZxZIFZ"
      },
      "source": [
        "Функция RECORDREADER моделирует чтение элементов с диска или по сети."
      ]
    },
    {
      "cell_type": "code",
      "execution_count": 5,
      "metadata": {
        "id": "S5HR4E_GQoMJ"
      },
      "outputs": [],
      "source": [
        "def RECORDREADER():\n",
        "  return [(u.id, u) for u in input_collection]"
      ]
    },
    {
      "cell_type": "code",
      "execution_count": 6,
      "metadata": {
        "colab": {
          "base_uri": "https://localhost:8080/"
        },
        "id": "NeEoWla-ROUy",
        "outputId": "9cf18497-9e98-4279-c158-fa23bd02716f"
      },
      "outputs": [
        {
          "data": {
            "text/plain": [
              "[(0, User(id=0, age=55, social_contacts=20, gender='male')),\n",
              " (1, User(id=1, age=25, social_contacts=240, gender='female')),\n",
              " (2, User(id=2, age=25, social_contacts=500, gender='female')),\n",
              " (3, User(id=3, age=33, social_contacts=800, gender='female'))]"
            ]
          },
          "execution_count": 6,
          "metadata": {},
          "output_type": "execute_result"
        }
      ],
      "source": [
        "list(RECORDREADER())"
      ]
    },
    {
      "cell_type": "code",
      "execution_count": 7,
      "metadata": {
        "id": "YB8orgPSZs8M"
      },
      "outputs": [],
      "source": [
        "def flatten(nested_iterable):\n",
        "  for iterable in nested_iterable:\n",
        "    for element in iterable:\n",
        "      yield element"
      ]
    },
    {
      "cell_type": "code",
      "execution_count": 8,
      "metadata": {
        "colab": {
          "base_uri": "https://localhost:8080/"
        },
        "id": "74oyvDLaRmd5",
        "outputId": "29136aa3-c83c-436f-90cb-8c39d46b9ff3"
      },
      "outputs": [
        {
          "data": {
            "text/plain": [
              "[(25, User(id=1, age=25, social_contacts=240, gender='female')),\n",
              " (25, User(id=2, age=25, social_contacts=500, gender='female')),\n",
              " (33, User(id=3, age=33, social_contacts=800, gender='female'))]"
            ]
          },
          "execution_count": 8,
          "metadata": {},
          "output_type": "execute_result"
        }
      ],
      "source": [
        "map_output = flatten(map(lambda x: MAP(*x), RECORDREADER()))\n",
        "map_output = list(map_output) # materialize\n",
        "map_output"
      ]
    },
    {
      "cell_type": "code",
      "execution_count": 9,
      "metadata": {
        "id": "8ncYDJ3-VzDn"
      },
      "outputs": [],
      "source": [
        "def groupbykey(iterable):\n",
        "  t = {}\n",
        "  for (k2, v2) in iterable:\n",
        "    t[k2] = t.get(k2, []) + [v2]\n",
        "  return t.items()"
      ]
    },
    {
      "cell_type": "code",
      "execution_count": 10,
      "metadata": {
        "colab": {
          "base_uri": "https://localhost:8080/"
        },
        "id": "cKzY_6COWOA2",
        "outputId": "762b747a-ff2f-4f94-f6ea-d84c8d9c7f15"
      },
      "outputs": [
        {
          "data": {
            "text/plain": [
              "[(25,\n",
              "  [User(id=1, age=25, social_contacts=240, gender='female'),\n",
              "   User(id=2, age=25, social_contacts=500, gender='female')]),\n",
              " (33, [User(id=3, age=33, social_contacts=800, gender='female')])]"
            ]
          },
          "execution_count": 10,
          "metadata": {},
          "output_type": "execute_result"
        }
      ],
      "source": [
        "shuffle_output = groupbykey(map_output)\n",
        "shuffle_output = list(shuffle_output)\n",
        "shuffle_output"
      ]
    },
    {
      "cell_type": "code",
      "execution_count": 11,
      "metadata": {
        "colab": {
          "base_uri": "https://localhost:8080/"
        },
        "id": "NlA7lkDDYL0t",
        "outputId": "6309e1b4-c6cd-4c27-e82a-f06d34a6833b"
      },
      "outputs": [
        {
          "data": {
            "text/plain": [
              "[(25, 370.0), (33, 800.0)]"
            ]
          },
          "execution_count": 11,
          "metadata": {},
          "output_type": "execute_result"
        }
      ],
      "source": [
        "reduce_output = flatten(map(lambda x: REDUCE(*x), shuffle_output))\n",
        "reduce_output = list(reduce_output)\n",
        "reduce_output"
      ]
    },
    {
      "cell_type": "markdown",
      "metadata": {
        "id": "xf6qhHEtd6bI"
      },
      "source": [
        "Все действия одним конвейером!"
      ]
    },
    {
      "cell_type": "code",
      "execution_count": 12,
      "metadata": {
        "colab": {
          "base_uri": "https://localhost:8080/"
        },
        "id": "dZaQGYxCdpw5",
        "outputId": "0b0a8dc1-921e-4032-a8b4-516c61c3528c"
      },
      "outputs": [
        {
          "data": {
            "text/plain": [
              "[(25, 370.0), (33, 800.0)]"
            ]
          },
          "execution_count": 12,
          "metadata": {},
          "output_type": "execute_result"
        }
      ],
      "source": [
        "list(flatten(map(lambda x: REDUCE(*x), groupbykey(flatten(map(lambda x: MAP(*x), RECORDREADER()))))))"
      ]
    },
    {
      "cell_type": "markdown",
      "metadata": {
        "id": "Vq3EWRIpwSiJ"
      },
      "source": [
        "# **MapReduce**\n",
        "Выделим общую для всех пользователей часть системы в отдельную функцию высшего порядка. Это наиболее простая модель MapReduce, без учёта распределённого хранения данных.\n",
        "\n",
        "Пользователь для решения своей задачи реализует RECORDREADER, MAP, REDUCE."
      ]
    },
    {
      "cell_type": "code",
      "execution_count": 13,
      "metadata": {
        "id": "V1PZeQMwwVjc"
      },
      "outputs": [],
      "source": [
        "def flatten(nested_iterable):\n",
        "  for iterable in nested_iterable:\n",
        "    for element in iterable:\n",
        "      yield element\n",
        "\n",
        "def groupbykey(iterable):\n",
        "  t = {}\n",
        "  for (k2, v2) in iterable:\n",
        "    t[k2] = t.get(k2, []) + [v2]\n",
        "  return t.items()\n",
        "\n",
        "def MapReduce(RECORDREADER, MAP, REDUCE):\n",
        "  return flatten(map(lambda x: REDUCE(*x), groupbykey(flatten(map(lambda x: MAP(*x), RECORDREADER())))))"
      ]
    },
    {
      "cell_type": "markdown",
      "metadata": {
        "id": "iFIVrimep678"
      },
      "source": [
        "## Спецификация MapReduce\n",
        "\n",
        "\n",
        "\n",
        "```\n",
        "f (k1, v1) -> (k2,v2)*\n",
        "g (k2, v2*) -> (k3,v3)*\n",
        "\n",
        "mapreduce ((k1,v1)*) -> (k3,v3)*\n",
        "groupby ((k2,v2)*) -> (k2,v2*)*\n",
        "flatten (e2**) -> e2*\n",
        "\n",
        "mapreduce .map(f).flatten.groupby(k2).map(g).flatten\n",
        "```\n",
        "\n",
        "\n"
      ]
    },
    {
      "cell_type": "markdown",
      "metadata": {
        "id": "QtTFyqke3KGe"
      },
      "source": [
        "# Примеры"
      ]
    },
    {
      "cell_type": "markdown",
      "metadata": {
        "id": "BNhh5763w5Vn"
      },
      "source": [
        "## SQL"
      ]
    },
    {
      "cell_type": "code",
      "execution_count": 14,
      "metadata": {
        "colab": {
          "base_uri": "https://localhost:8080/"
        },
        "id": "QkyurnvGxBGk",
        "outputId": "55c44b3a-68f1-4de4-8c22-4eb14e817f20"
      },
      "outputs": [
        {
          "data": {
            "text/plain": [
              "[(25, 370.0), (33, 800.0)]"
            ]
          },
          "execution_count": 14,
          "metadata": {},
          "output_type": "execute_result"
        }
      ],
      "source": [
        "from typing import NamedTuple # requires python 3.6+\n",
        "from typing import Iterator\n",
        "\n",
        "class User(NamedTuple):\n",
        "  id: int\n",
        "  age: str\n",
        "  social_contacts: int\n",
        "  gender: str\n",
        "\n",
        "input_collection = [\n",
        "    User(id=0, age=55, gender='male', social_contacts=20),\n",
        "    User(id=1, age=25, gender='female', social_contacts=240),\n",
        "    User(id=2, age=25, gender='female', social_contacts=500),\n",
        "    User(id=3, age=33, gender='female', social_contacts=800)\n",
        "]\n",
        "\n",
        "def MAP(_, row:NamedTuple):\n",
        "  if (row.gender == 'female'):\n",
        "    yield (row.age, row)\n",
        "\n",
        "def REDUCE(age:str, rows:Iterator[NamedTuple]):\n",
        "  sum = 0\n",
        "  count = 0\n",
        "  for row in rows:\n",
        "    sum += row.social_contacts\n",
        "    count += 1\n",
        "  if (count > 0):\n",
        "    yield (age, sum/count)\n",
        "  else:\n",
        "    yield (age, 0)\n",
        "\n",
        "def RECORDREADER():\n",
        "  return [(u.id, u) for u in input_collection]\n",
        "\n",
        "output = MapReduce(RECORDREADER, MAP, REDUCE)\n",
        "output = list(output)\n",
        "output"
      ]
    },
    {
      "cell_type": "markdown",
      "metadata": {
        "id": "kNKYIeerx0nY"
      },
      "source": [
        "## Matrix-Vector multiplication"
      ]
    },
    {
      "cell_type": "code",
      "execution_count": 15,
      "metadata": {
        "colab": {
          "base_uri": "https://localhost:8080/"
        },
        "id": "rwcntRcCyi1V",
        "outputId": "9fc22e77-fdad-4aed-8d38-6fdabfa32ff4"
      },
      "outputs": [
        {
          "data": {
            "text/plain": [
              "[(0, 0.5226444731224815),\n",
              " (1, 0.5226444731224815),\n",
              " (2, 0.5226444731224815),\n",
              " (3, 0.5226444731224815),\n",
              " (4, 0.5226444731224815)]"
            ]
          },
          "execution_count": 15,
          "metadata": {},
          "output_type": "execute_result"
        }
      ],
      "source": [
        "from typing import Iterator\n",
        "import numpy as np\n",
        "\n",
        "mat = np.ones((5,4))\n",
        "vec = np.random.rand(4) # in-memory vector in all map tasks\n",
        "\n",
        "def MAP(coordinates:(int, int), value:int):\n",
        "  i, j = coordinates\n",
        "  yield (i, value*vec[j])\n",
        "\n",
        "def REDUCE(i:int, products:Iterator[NamedTuple]):\n",
        "  sum = 0\n",
        "  for p in products:\n",
        "    sum += p\n",
        "  yield (i, sum)\n",
        "\n",
        "def RECORDREADER():\n",
        "  for i in range(mat.shape[0]):\n",
        "    for j in range(mat.shape[1]):\n",
        "      yield ((i, j), mat[i,j])\n",
        "\n",
        "output = MapReduce(RECORDREADER, MAP, REDUCE)\n",
        "output = list(output)\n",
        "output"
      ]
    },
    {
      "cell_type": "markdown",
      "metadata": {
        "id": "ruZREYdi2o4O"
      },
      "source": [
        "## Inverted index"
      ]
    },
    {
      "cell_type": "code",
      "execution_count": 16,
      "metadata": {
        "colab": {
          "base_uri": "https://localhost:8080/"
        },
        "id": "vt9H9Alf3TYv",
        "outputId": "d5be8547-174d-4593-8021-48056dc07ba9"
      },
      "outputs": [
        {
          "data": {
            "text/plain": [
              "[('what', ['0', '1']),\n",
              " ('is', ['0', '1', '2']),\n",
              " ('it', ['0', '1', '2']),\n",
              " ('a', ['2']),\n",
              " ('banana', ['2'])]"
            ]
          },
          "execution_count": 16,
          "metadata": {},
          "output_type": "execute_result"
        }
      ],
      "source": [
        "from typing import Iterator\n",
        "\n",
        "d1 = \"it is what it is\"\n",
        "d2 = \"what is it\"\n",
        "d3 = \"it is a banana\"\n",
        "documents = [d1, d2, d3]\n",
        "\n",
        "def RECORDREADER():\n",
        "  for (docid, document) in enumerate(documents):\n",
        "    yield (\"{}\".format(docid), document)\n",
        "\n",
        "def MAP(docId:str, body:str):\n",
        "  for word in set(body.split(' ')):\n",
        "    yield (word, docId)\n",
        "\n",
        "def REDUCE(word:str, docIds:Iterator[str]):\n",
        "  yield (word, sorted(docIds))\n",
        "\n",
        "output = MapReduce(RECORDREADER, MAP, REDUCE)\n",
        "output = list(output)\n",
        "output"
      ]
    },
    {
      "cell_type": "markdown",
      "metadata": {
        "id": "R7az-6DA6qr2"
      },
      "source": [
        "## WordCount"
      ]
    },
    {
      "cell_type": "code",
      "execution_count": 17,
      "metadata": {
        "colab": {
          "base_uri": "https://localhost:8080/"
        },
        "id": "dN-nbtgG6uYG",
        "outputId": "f98a08f7-66bd-4a33-e7d9-1cf1367b6a9b"
      },
      "outputs": [
        {
          "data": {
            "text/plain": [
              "[('', 3), ('it', 9), ('is', 9), ('what', 5), ('a', 1), ('banana', 1)]"
            ]
          },
          "execution_count": 17,
          "metadata": {},
          "output_type": "execute_result"
        }
      ],
      "source": [
        "from typing import Iterator\n",
        "\n",
        "d1 = \"\"\"\n",
        "it is what it is\n",
        "it is what it is\n",
        "it is what it is\"\"\"\n",
        "d2 = \"\"\"\n",
        "what is it\n",
        "what is it\"\"\"\n",
        "d3 = \"\"\"\n",
        "it is a banana\"\"\"\n",
        "documents = [d1, d2, d3]\n",
        "\n",
        "def RECORDREADER():\n",
        "  for (docid, document) in enumerate(documents):\n",
        "    for (lineid, line) in enumerate(document.split('\\n')):\n",
        "      yield (\"{}:{}\".format(docid,lineid), line)\n",
        "\n",
        "def MAP(docId:str, line:str):\n",
        "  for word in line.split(\" \"):\n",
        "    yield (word, 1)\n",
        "\n",
        "def REDUCE(word:str, counts:Iterator[int]):\n",
        "  sum = 0\n",
        "  for c in counts:\n",
        "    sum += c\n",
        "  yield (word, sum)\n",
        "\n",
        "output = MapReduce(RECORDREADER, MAP, REDUCE)\n",
        "output = list(output)\n",
        "output"
      ]
    },
    {
      "cell_type": "markdown",
      "metadata": {
        "id": "h-jRAcYCAkkk"
      },
      "source": [
        "# MapReduce Distributed\n",
        "\n",
        "Добавляется в модель фабрика RECORDREARER-ов --- INPUTFORMAT, функция распределения промежуточных результатов по партициям PARTITIONER, и функция COMBINER для частичной аггрегации промежуточных результатов до распределения по новым партициям."
      ]
    },
    {
      "cell_type": "code",
      "execution_count": 18,
      "metadata": {
        "id": "nw-b-xJsApgW"
      },
      "outputs": [],
      "source": [
        "def flatten(nested_iterable):\n",
        "  for iterable in nested_iterable:\n",
        "    for element in iterable:\n",
        "      yield element\n",
        "\n",
        "def groupbykey(iterable):\n",
        "  t = {}\n",
        "  for (k2, v2) in iterable:\n",
        "    t[k2] = t.get(k2, []) + [v2]\n",
        "  return t.items()\n",
        "\n",
        "def groupbykey_distributed(map_partitions, PARTITIONER):\n",
        "  global reducers\n",
        "  partitions = [dict() for _ in range(reducers)]\n",
        "  for map_partition in map_partitions:\n",
        "    for (k2, v2) in map_partition:\n",
        "      p = partitions[PARTITIONER(k2)]\n",
        "      p[k2] = p.get(k2, []) + [v2]\n",
        "  return [(partition_id, sorted(partition.items(), key=lambda x: x[0])) for (partition_id, partition) in enumerate(partitions)]\n",
        "\n",
        "def PARTITIONER(obj):\n",
        "  global reducers\n",
        "  return hash(obj) % reducers\n",
        "\n",
        "def MapReduceDistributed(INPUTFORMAT, MAP, REDUCE, PARTITIONER=PARTITIONER, COMBINER=None):\n",
        "  map_partitions = map(lambda record_reader: flatten(map(lambda k1v1: MAP(*k1v1), record_reader)), INPUTFORMAT())\n",
        "  if COMBINER != None:\n",
        "    map_partitions = map(lambda map_partition: flatten(map(lambda k2v2: COMBINER(*k2v2), groupbykey(map_partition))), map_partitions)\n",
        "  reduce_partitions = groupbykey_distributed(map_partitions, PARTITIONER) # shuffle\n",
        "  reduce_outputs = map(lambda reduce_partition: (reduce_partition[0], flatten(map(lambda reduce_input_group: REDUCE(*reduce_input_group), reduce_partition[1]))), reduce_partitions)\n",
        "\n",
        "  print(\"{} key-value pairs were sent over a network.\".format(sum([len(vs) for (k,vs) in flatten([partition for (partition_id, partition) in reduce_partitions])])))\n",
        "  return reduce_outputs"
      ]
    },
    {
      "cell_type": "markdown",
      "metadata": {
        "id": "kxirlf3XqZxY"
      },
      "source": [
        "## Спецификация MapReduce Distributed\n",
        "\n",
        "\n",
        "```\n",
        "f (k1, v1) -> (k2,v2)*\n",
        "g (k2, v2*) -> (k3,v3)*\n",
        "\n",
        "e1 (k1, v1)\n",
        "e2 (k2, v2)\n",
        "partition1 (k2, v2)*\n",
        "partition2 (k2, v2*)*\n",
        "\n",
        "flatmap (e1->e2*, e1*) -> partition1*\n",
        "groupby (partition1*) -> partition2*\n",
        "\n",
        "mapreduce ((k1,v1)*) -> (k3,v3)*\n",
        "mapreduce .flatmap(f).groupby(k2).flatmap(g)\n",
        "```\n",
        "\n"
      ]
    },
    {
      "cell_type": "markdown",
      "metadata": {
        "id": "CWYw_CpbbY3C"
      },
      "source": [
        "## WordCount"
      ]
    },
    {
      "cell_type": "code",
      "execution_count": 19,
      "metadata": {
        "colab": {
          "base_uri": "https://localhost:8080/"
        },
        "id": "uR_zfGFkMZlp",
        "outputId": "3f5eb7f9-4b5e-47fa-abe9-5f9664637b7e"
      },
      "outputs": [
        {
          "name": "stdout",
          "output_type": "stream",
          "text": [
            "56 key-value pairs were sent over a network.\n"
          ]
        },
        {
          "data": {
            "text/plain": [
              "[(0, [('', 6), ('banana', 2), ('is', 18)]),\n",
              " (1, [('a', 2), ('it', 18), ('what', 10)])]"
            ]
          },
          "execution_count": 19,
          "metadata": {},
          "output_type": "execute_result"
        }
      ],
      "source": [
        "from typing import Iterator\n",
        "import numpy as np\n",
        "\n",
        "d1 = \"\"\"\n",
        "it is what it is\n",
        "it is what it is\n",
        "it is what it is\"\"\"\n",
        "d2 = \"\"\"\n",
        "what is it\n",
        "what is it\"\"\"\n",
        "d3 = \"\"\"\n",
        "it is a banana\"\"\"\n",
        "documents = [d1, d2, d3, d1, d2, d3]\n",
        "\n",
        "maps = 3\n",
        "reducers = 2\n",
        "\n",
        "def INPUTFORMAT():\n",
        "  global maps\n",
        "\n",
        "  def RECORDREADER(split):\n",
        "    for (docid, document) in enumerate(split):\n",
        "      for (lineid, line) in enumerate(document.split('\\n')):\n",
        "        yield (\"{}:{}\".format(docid,lineid), line)\n",
        "\n",
        "  split_size =  int(np.ceil(len(documents)/maps))\n",
        "  for i in range(0, len(documents), split_size):\n",
        "    yield RECORDREADER(documents[i:i+split_size])\n",
        "\n",
        "def MAP(docId:str, line:str):\n",
        "  for word in line.split(\" \"):\n",
        "    yield (word, 1)\n",
        "\n",
        "def REDUCE(word:str, counts:Iterator[int]):\n",
        "  sum = 0\n",
        "  for c in counts:\n",
        "    sum += c\n",
        "  yield (word, sum)\n",
        "\n",
        "# try to set COMBINER=REDUCER and look at the number of values sent over the network\n",
        "partitioned_output = MapReduceDistributed(INPUTFORMAT, MAP, REDUCE, COMBINER=None)\n",
        "partitioned_output = [(partition_id, list(partition)) for (partition_id, partition) in partitioned_output]\n",
        "partitioned_output"
      ]
    },
    {
      "cell_type": "markdown",
      "metadata": {
        "id": "gCJGx8IQ87xS"
      },
      "source": [
        "## TeraSort"
      ]
    },
    {
      "cell_type": "code",
      "execution_count": 20,
      "metadata": {
        "colab": {
          "base_uri": "https://localhost:8080/"
        },
        "id": "P2v8v1v_8_YR",
        "outputId": "78eecb27-4db6-422a-d7b5-61bc7e20f020"
      },
      "outputs": [
        {
          "name": "stdout",
          "output_type": "stream",
          "text": [
            "30 key-value pairs were sent over a network.\n"
          ]
        },
        {
          "data": {
            "text/plain": [
              "[(0,\n",
              "  [(None, 0.016535735578211974),\n",
              "   (None, 0.02455478407184475),\n",
              "   (None, 0.10325025526471232),\n",
              "   (None, 0.16166203305462756),\n",
              "   (None, 0.1979611292423713),\n",
              "   (None, 0.23510219865151405),\n",
              "   (None, 0.25630735292293005),\n",
              "   (None, 0.31189175632597455),\n",
              "   (None, 0.33187378685153346),\n",
              "   (None, 0.3599544412281399),\n",
              "   (None, 0.3642368170351141),\n",
              "   (None, 0.3786103708622719),\n",
              "   (None, 0.4300970857184483),\n",
              "   (None, 0.44258262681147875),\n",
              "   (None, 0.4609328836815918),\n",
              "   (None, 0.46567672824225215),\n",
              "   (None, 0.4824456283605133)]),\n",
              " (1,\n",
              "  [(None, 0.5287026371356531),\n",
              "   (None, 0.5287937085592166),\n",
              "   (None, 0.5550629881943973),\n",
              "   (None, 0.6139059652137536),\n",
              "   (None, 0.6180793588834096),\n",
              "   (None, 0.6937529289640818),\n",
              "   (None, 0.7649601332048515),\n",
              "   (None, 0.8437879283869095),\n",
              "   (None, 0.8574015034678819),\n",
              "   (None, 0.8843089688413326),\n",
              "   (None, 0.8845253752286801),\n",
              "   (None, 0.9520465627224665),\n",
              "   (None, 0.9766608475187599)])]"
            ]
          },
          "execution_count": 20,
          "metadata": {},
          "output_type": "execute_result"
        }
      ],
      "source": [
        "import numpy as np\n",
        "\n",
        "input_values = np.random.rand(30)\n",
        "maps = 3\n",
        "reducers = 2\n",
        "min_value = 0.0\n",
        "max_value = 1.0\n",
        "\n",
        "def INPUTFORMAT():\n",
        "  global maps\n",
        "\n",
        "  def RECORDREADER(split):\n",
        "    for value in split:\n",
        "        yield (value, None)\n",
        "\n",
        "  split_size =  int(np.ceil(len(input_values)/maps))\n",
        "  for i in range(0, len(input_values), split_size):\n",
        "    yield RECORDREADER(input_values[i:i+split_size])\n",
        "\n",
        "def MAP(value:int, _):\n",
        "  yield (value, None)\n",
        "\n",
        "def PARTITIONER(key):\n",
        "  global reducers\n",
        "  global max_value\n",
        "  global min_value\n",
        "  bucket_size = (max_value-min_value)/reducers\n",
        "  bucket_id = 0\n",
        "  while((key>(bucket_id+1)*bucket_size) and ((bucket_id+1)*bucket_size<max_value)):\n",
        "    bucket_id += 1\n",
        "  return bucket_id\n",
        "\n",
        "def REDUCE(value:int, _):\n",
        "  yield (None,value)\n",
        "\n",
        "partitioned_output = MapReduceDistributed(INPUTFORMAT, MAP, REDUCE, COMBINER=None, PARTITIONER=PARTITIONER)\n",
        "partitioned_output = [(partition_id, list(partition)) for (partition_id, partition) in partitioned_output]\n",
        "partitioned_output"
      ]
    },
    {
      "cell_type": "code",
      "execution_count": null,
      "metadata": {
        "id": "MQhoJaVZI93G"
      },
      "outputs": [],
      "source": []
    },
    {
      "cell_type": "markdown",
      "metadata": {
        "id": "Iy65YJTH99iT"
      },
      "source": [
        "# Упражнения\n",
        "Упражнения взяты из Rajaraman A., Ullman J. D. Mining of massive datasets. – Cambridge University Press, 2011.\n",
        "\n",
        "\n",
        "Для выполнения заданий переопределите функции RECORDREADER, MAP, REDUCE. Для модели распределённой системы может потребоваться переопределение функций PARTITION и COMBINER."
      ]
    },
    {
      "cell_type": "markdown",
      "metadata": {
        "id": "cfvAeZm3S8S8"
      },
      "source": [
        "### Максимальное значение ряда\n",
        "\n",
        "Разработайте MapReduce алгоритм, который находит максимальное число входного списка чисел."
      ]
    },
    {
      "cell_type": "code",
      "execution_count": 21,
      "metadata": {
        "id": "3GRA1JR-Tkbg"
      },
      "outputs": [
        {
          "name": "stdout",
          "output_type": "stream",
          "text": [
            "input_values: [4 4 1 5 4 4 0 4 4 2]\n"
          ]
        },
        {
          "data": {
            "text/plain": [
              "[(None, 5)]"
            ]
          },
          "execution_count": 21,
          "metadata": {},
          "output_type": "execute_result"
        }
      ],
      "source": [
        "from typing import Iterator\n",
        "import numpy as np\n",
        "\n",
        "input_values = np.random.randint(0, 6, 10)\n",
        "print(\"input_values:\", input_values)\n",
        "\n",
        "def RECORDREADER():\n",
        "    for i in range(len(input_values)):\n",
        "        yield (None, input_values[i])\n",
        "\n",
        "def MAP(_, value: int):\n",
        "    yield (None, value)\n",
        "\n",
        "def REDUCE(_, values: Iterator[int]):\n",
        "    max_value = 0\n",
        "    is_first = True\n",
        "    for value in values:\n",
        "        if is_first:\n",
        "            max_value = value\n",
        "            is_first = False\n",
        "        \n",
        "        max_value = max(max_value, value)\n",
        "    \n",
        "    yield (None, max_value)\n",
        "\n",
        "\n",
        "output = MapReduce(RECORDREADER, MAP, REDUCE)\n",
        "output = list(output)\n",
        "output"
      ]
    },
    {
      "cell_type": "markdown",
      "metadata": {
        "id": "k86bXnqZTk-U"
      },
      "source": [
        "### Арифметическое среднее\n",
        "\n",
        "Разработайте MapReduce алгоритм, который находит арифметическое среднее.\n",
        "\n",
        "$$\\overline{X} = \\frac{1}{n}\\sum_{i=0}^{n} x_i$$\n"
      ]
    },
    {
      "cell_type": "code",
      "execution_count": 22,
      "metadata": {
        "id": "MPoY5pkfUNZf"
      },
      "outputs": [
        {
          "data": {
            "text/plain": [
              "[(None, 3.0)]"
            ]
          },
          "execution_count": 22,
          "metadata": {},
          "output_type": "execute_result"
        }
      ],
      "source": [
        "def RECORDREADER():\n",
        "    # [1, 2, 3, 4, 5]\n",
        "    return [(None, i) for i in range(1, 6)]\n",
        "\n",
        "def MAP(_, value: int):\n",
        "    yield (None, value)\n",
        "\n",
        "def REDUCE(_, values: Iterator[int]):\n",
        "    values_sum = 0\n",
        "    amount = 0\n",
        "\n",
        "    for value in values:\n",
        "        values_sum += value\n",
        "        amount += 1\n",
        "    \n",
        "    if amount != 0:\n",
        "        yield (None, values_sum / amount)\n",
        "    else:\n",
        "        yield(None, 0)\n",
        "\n",
        "output = MapReduce(RECORDREADER, MAP, REDUCE)\n",
        "output = list(output)\n",
        "output"
      ]
    },
    {
      "cell_type": "markdown",
      "metadata": {
        "id": "xanzszhsIlLe"
      },
      "source": [
        "### GroupByKey на основе сортировки\n",
        "\n",
        "Реализуйте groupByKey на основе сортировки, проверьте его работу на примерах"
      ]
    },
    {
      "cell_type": "code",
      "execution_count": 23,
      "metadata": {
        "id": "hQPn3USsIkEC"
      },
      "outputs": [
        {
          "name": "stdout",
          "output_type": "stream",
          "text": [
            "input:  [(1, 1), (2, 2), (3, 3), (1, 4), (2, 5), (3, 6), (1, 7), (2, 8), (3, 9), (1, 10), (2, 11), (3, 12), (1, 13), (2, 14), (3, 15)]\n",
            "[(1, [1, 4, 7, 10, 13]), (2, [2, 5, 8, 11, 14]), (3, [3, 6, 9, 12, 15])]\n"
          ]
        }
      ],
      "source": [
        "# Число может быть в группе 1, 2 или 3\n",
        "# Через каждые три числа число будет помещаться в ту же группу\n",
        "# Например, в группе 1 будут 1, 4, 7, 10 и т.д.\n",
        "def RECORDREADER():\n",
        "    return [(i % 3 + 1, i + 1) for i in range(15)]\n",
        "\n",
        "\n",
        "def group_by_key(iterable):\n",
        "    sorted_iterable = sorted(iterable, key=lambda x: x[0])\n",
        "\n",
        "    result = []\n",
        "    key_index = -1\n",
        "    current_key = None\n",
        "\n",
        "    for key, val in sorted_iterable:\n",
        "        if key != current_key:\n",
        "            result.append((key, [val]))\n",
        "            current_key = key\n",
        "            key_index += 1\n",
        "        else:\n",
        "            result[key_index][1].append(val)\n",
        "\n",
        "    return result\n",
        "\n",
        "input = RECORDREADER()\n",
        "\n",
        "print(\"input: \", input)\n",
        "print(group_by_key(input))"
      ]
    },
    {
      "cell_type": "markdown",
      "metadata": {
        "id": "5SgEjCZyGnu6"
      },
      "source": [
        "### Drop duplicates (set construction, unique elements, distinct)\n",
        "\n",
        "Реализуйте распределённую операцию исключения дубликатов"
      ]
    },
    {
      "cell_type": "code",
      "execution_count": 24,
      "metadata": {
        "id": "okjbyApjGhMt"
      },
      "outputs": [
        {
          "name": "stdout",
          "output_type": "stream",
          "text": [
            "56 key-value pairs were sent over a network.\n"
          ]
        },
        {
          "data": {
            "text/plain": [
              "[(0,\n",
              "  [(0, ['', 'what', 'is', 'it']),\n",
              "   (2, ['', 'banana', 'is', 'it', 'a']),\n",
              "   (4, ['', 'what', 'is', 'it'])]),\n",
              " (1,\n",
              "  [(1, ['', 'what', 'is', 'it']),\n",
              "   (3, ['', 'what', 'is', 'it']),\n",
              "   (5, ['', 'banana', 'is', 'it', 'a'])])]"
            ]
          },
          "execution_count": 24,
          "metadata": {},
          "output_type": "execute_result"
        }
      ],
      "source": [
        "d1 = \"\"\"\n",
        "it is what it is\n",
        "it is what it is\n",
        "it is what it is\"\"\"\n",
        "d2 = \"\"\"\n",
        "what is it\n",
        "what is it\"\"\"\n",
        "d3 = \"\"\"\n",
        "it is a banana\"\"\"\n",
        "documents = [d1, d2, d3, d1, d2, d3]\n",
        "\n",
        "maps = 3\n",
        "reducers = 2\n",
        "\n",
        "def INPUTFORMAT():\n",
        "    global maps\n",
        "\n",
        "    def RECORDREADER(idx_offset, split):\n",
        "        for (doc_id, document) in enumerate(split):\n",
        "            # Каждый документ становится строкой без переносов\n",
        "            yield (doc_id + idx_offset, document.replace('\\n', ' '))\n",
        "\n",
        "    split_size =  int(np.ceil(len(documents)/maps))\n",
        "    for i in range(0, len(documents), split_size):\n",
        "        yield RECORDREADER(i, documents[i:i+split_size])\n",
        "\n",
        "def MAP(doc_id:int, flatted_doc:str):\n",
        "    for word in flatted_doc.split(' '):\n",
        "        yield (doc_id, word)\n",
        "\n",
        "def REDUCE(doc_id:str, words:Iterator[str]):\n",
        "    yield (doc_id, list(set(words)))\n",
        "\n",
        "# try to set COMBINER=REDUCER and look at the number of values sent over the network\n",
        "partitioned_output = MapReduceDistributed(INPUTFORMAT, MAP, REDUCE, COMBINER=None)\n",
        "partitioned_output = [(partition_id, list(partition)) for (partition_id, partition) in partitioned_output]\n",
        "partitioned_output"
      ]
    },
    {
      "cell_type": "markdown",
      "metadata": {
        "id": "e7sRGoTXuJze"
      },
      "source": [
        "# Операторы реляционной алгебры\n",
        "### Selection (Выборка)\n",
        "\n",
        "**The Map Function**: Для  каждого кортежа $t \\in R$ вычисляется истинность предиката $C$. В случае истины создаётся пара ключ-значение $(t, t)$. В паре ключ и значение одинаковы, равны $t$.\n",
        "\n",
        "**The Reduce Function:** Роль функции Reduce выполняет функция идентичности, которая возвращает то же значение, что получила на вход.\n",
        "\n"
      ]
    },
    {
      "cell_type": "code",
      "execution_count": 25,
      "metadata": {
        "id": "4nKIKe59uIfc"
      },
      "outputs": [
        {
          "name": "stdout",
          "output_type": "stream",
          "text": [
            "input [(None, (1, 1)), (None, (1, 2)), (None, (1, 3)), (None, (2, 1)), (None, (2, 2)), (None, (2, 3)), (None, (3, 1)), (None, (3, 2)), (None, (3, 3))]\n"
          ]
        },
        {
          "data": {
            "text/plain": [
              "[((1, 1), [(1, 1)]),\n",
              " ((1, 2), [(1, 2)]),\n",
              " ((1, 3), [(1, 3)]),\n",
              " ((2, 1), [(2, 1)]),\n",
              " ((2, 2), [(2, 2)]),\n",
              " ((3, 1), [(3, 1)])]"
            ]
          },
          "execution_count": 25,
          "metadata": {},
          "output_type": "execute_result"
        }
      ],
      "source": [
        "def RECORDREADER():\n",
        "    for x in range(1, 4):\n",
        "        for y in range(1, 4):\n",
        "            yield (None, (x, y))\n",
        "\n",
        "def C(t: tuple):\n",
        "    return sum(t) < 5\n",
        "\n",
        "def MAP(_, value: tuple):\n",
        "    if C(value):\n",
        "        yield (value, value)\n",
        "\n",
        "def REDUCE(key: tuple, value: Iterator[tuple]):\n",
        "    yield (key, value)\n",
        "\n",
        "print(\"input\", list(RECORDREADER()))\n",
        "\n",
        "output = MapReduce(RECORDREADER, MAP, REDUCE)\n",
        "output = list(output)\n",
        "output"
      ]
    },
    {
      "cell_type": "markdown",
      "metadata": {
        "id": "w27Ca-_Ku85V"
      },
      "source": [
        "### Projection (Проекция)\n",
        "\n",
        "Проекция на множество атрибутов $S$.\n",
        "\n",
        "**The Map Function:** Для каждого кортежа $t \\in R$ создайте кортеж $t′$, исключая  из $t$ те значения, атрибуты которых не принадлежат  $S$. Верните пару $(t′, t′)$.\n",
        "\n",
        "**The Reduce Function:** Для каждого ключа $t′$, созданного любой Map задачей, вы получаете одну или несколько пар $(t′, t′)$. Reduce функция преобразует $(t′, [t′, t′, . . . , t′])$ в $(t′, t′)$, так, что для ключа $t′$ возвращается одна пара  $(t′, t′)$."
      ]
    },
    {
      "cell_type": "code",
      "execution_count": 26,
      "metadata": {
        "id": "BEvuY4GqvhS6"
      },
      "outputs": [
        {
          "name": "stdout",
          "output_type": "stream",
          "text": [
            "input [(None, (1, 1)), (None, (1, 1)), (None, (1, 2)), (None, (1, 2)), (None, (1, 3)), (None, (1, 3)), (None, (2, 1)), (None, (2, 1)), (None, (2, 2)), (None, (2, 2)), (None, (2, 3)), (None, (2, 3)), (None, (3, 1)), (None, (3, 1)), (None, (3, 2)), (None, (3, 2)), (None, (3, 3)), (None, (3, 3))]\n"
          ]
        },
        {
          "data": {
            "text/plain": [
              "[((1, 1), [(1, 1)]),\n",
              " ((1, 2), [(1, 2)]),\n",
              " ((1,), [(1,)]),\n",
              " ((2, 1), [(2, 1)]),\n",
              " ((2, 2), [(2, 2)]),\n",
              " ((2,), [(2,)]),\n",
              " ((), [()])]"
            ]
          },
          "execution_count": 26,
          "metadata": {},
          "output_type": "execute_result"
        }
      ],
      "source": [
        "S = set([1, 2])\n",
        "\n",
        "def RECORDREADER():\n",
        "    for x in range(1, 4):\n",
        "        for y in range(1, 4):\n",
        "            # Создаем по две штуки, чтобы проверить дедублирование в reduce\n",
        "            for _ in range(2):\n",
        "                yield (None, (x, y))\n",
        "\n",
        "def MAP(_, value: tuple):\n",
        "    result = []\n",
        "    for val in value:\n",
        "        if val in S:\n",
        "            result.append(val)\n",
        "    \n",
        "    result = tuple(result)\n",
        "\n",
        "    yield (result, result)\n",
        "\n",
        "def REDUCE(key: tuple, value: Iterator[tuple]):\n",
        "    yield (key, list(set(value)))\n",
        "\n",
        "print(\"input\", list(RECORDREADER()))\n",
        "\n",
        "output = MapReduce(RECORDREADER, MAP, REDUCE)\n",
        "output = list(output)\n",
        "output"
      ]
    },
    {
      "cell_type": "markdown",
      "metadata": {
        "id": "7gau6lKXvn2R"
      },
      "source": [
        "### Union (Объединение)\n",
        "\n",
        "**The Map Function:** Превратите каждый входной кортеж $t$ в пару ключ-значение $(t, t)$.\n",
        "\n",
        "**The Reduce Function:** С каждым ключом $t$ будет ассоциировано одно или два значений. В обоих случаях создайте $(t, t)$ в качестве выходного значения."
      ]
    },
    {
      "cell_type": "code",
      "execution_count": 27,
      "metadata": {
        "id": "Sns7a5agv3nw"
      },
      "outputs": [
        {
          "name": "stdout",
          "output_type": "stream",
          "text": [
            "input [(None, (1, 1)), (None, (1, 1)), (None, (1, 2)), (None, (1, 2)), (None, (1, 3)), (None, (1, 3)), (None, (2, 1)), (None, (2, 1)), (None, (2, 2)), (None, (2, 2)), (None, (2, 3)), (None, (2, 3)), (None, (3, 1)), (None, (3, 1)), (None, (3, 2)), (None, (3, 2)), (None, (3, 3)), (None, (3, 3))]\n"
          ]
        },
        {
          "data": {
            "text/plain": [
              "[((1, 1), [(1, 1)]),\n",
              " ((1, 2), [(1, 2)]),\n",
              " ((1, 3), [(1, 3)]),\n",
              " ((2, 1), [(2, 1)]),\n",
              " ((2, 2), [(2, 2)]),\n",
              " ((2, 3), [(2, 3)]),\n",
              " ((3, 1), [(3, 1)]),\n",
              " ((3, 2), [(3, 2)]),\n",
              " ((3, 3), [(3, 3)])]"
            ]
          },
          "execution_count": 27,
          "metadata": {},
          "output_type": "execute_result"
        }
      ],
      "source": [
        "def RECORDREADER():\n",
        "    for x in range(1, 4):\n",
        "        for y in range(1, 4):\n",
        "            # Создаем по две штуки, чтобы проверить дедублирование в reduce\n",
        "            for _ in range(2):\n",
        "                yield (None, (x, y))\n",
        "\n",
        "def MAP(_, value: tuple):\n",
        "    yield (value, value)\n",
        "\n",
        "def REDUCE(key: tuple, value: Iterator[tuple]):\n",
        "    yield (key, list(set(value)))\n",
        "\n",
        "print(\"input\", list(RECORDREADER()))\n",
        "\n",
        "output = MapReduce(RECORDREADER, MAP, REDUCE)\n",
        "output = list(output)\n",
        "output"
      ]
    },
    {
      "cell_type": "markdown",
      "metadata": {
        "id": "dQ8TuEbjv4J8"
      },
      "source": [
        "### Intersection (Пересечение)\n",
        "\n",
        "**The Map Function:** Превратите каждый кортеж $t$ в пары ключ-значение $(t, t)$.\n",
        "\n",
        "**The Reduce Function:** Если для ключа $t$ есть список из двух элементов $[t, t]$ $-$ создайте пару $(t, t)$. Иначе, ничего не создавайте."
      ]
    },
    {
      "cell_type": "code",
      "execution_count": 28,
      "metadata": {
        "id": "XKlBZh4IwERR"
      },
      "outputs": [
        {
          "name": "stdout",
          "output_type": "stream",
          "text": [
            "input [(None, (1, 1)), (None, (1, 2)), (None, (1, 2)), (None, (1, 3)), (None, (2, 1)), (None, (2, 2)), (None, (2, 3)), (None, (3, 1)), (None, (3, 1)), (None, (3, 2)), (None, (3, 3))]\n"
          ]
        },
        {
          "data": {
            "text/plain": [
              "[((1, 2), [(1, 2)]), ((3, 1), [(3, 1)])]"
            ]
          },
          "execution_count": 28,
          "metadata": {},
          "output_type": "execute_result"
        }
      ],
      "source": [
        "def RECORDREADER():\n",
        "    for x in range(1, 4):\n",
        "        for y in range(1, 4):\n",
        "            yield (None, (x, y))\n",
        "            # Создаём пересечение\n",
        "            if x == 1 and y == 2:\n",
        "                yield (None, (x, y))\n",
        "            if x == 3 and y == 1:\n",
        "                yield (None, (x, y))\n",
        "            \n",
        "\n",
        "def MAP(_, value: tuple):\n",
        "    yield (value, value)\n",
        "\n",
        "def REDUCE(key: tuple, value: Iterator[tuple]):\n",
        "    if len(value) >= 2:\n",
        "        yield (key, list(set(value)))\n",
        "\n",
        "print(\"input\", list(RECORDREADER()))\n",
        "\n",
        "output = MapReduce(RECORDREADER, MAP, REDUCE)\n",
        "output = list(output)\n",
        "output"
      ]
    },
    {
      "cell_type": "markdown",
      "metadata": {
        "id": "AVOpqoY3wE5k"
      },
      "source": [
        "### Difference (Разница)\n",
        "\n",
        "**The Map Function:** Для кортежа $t \\in R$, создайте пару $(t, R)$, и для кортежа $t \\in S$, создайте пару $(t, S)$. Задумка заключается в том, чтобы значение пары было именем отношения $R$ or $S$, которому принадлежит кортеж (а лучше, единичный бит, по которому можно два отношения различить $R$ or $S$), а не весь набор атрибутов отношения.\n",
        "\n",
        "**The Reduce Function:** Для каждого ключа $t$, если соответствующее значение является списком $[R]$, создайте пару $(t, t)$. В иных случаях не предпринимайте действий."
      ]
    },
    {
      "cell_type": "code",
      "execution_count": 29,
      "metadata": {
        "id": "QE_AC09lwZIZ"
      },
      "outputs": [
        {
          "name": "stdout",
          "output_type": "stream",
          "text": [
            "input [((1, 1), 0), ((1, 2), 1), ((1, 2), 0), ((1, 3), 0), ((2, 1), 1), ((2, 2), 0), ((2, 3), 1), ((3, 1), 0), ((3, 1), 1), ((3, 2), 1), ((3, 3), 0)]\n"
          ]
        },
        {
          "data": {
            "text/plain": [
              "[((1, 1), (1, 1)), ((1, 3), (1, 3)), ((2, 2), (2, 2)), ((3, 3), (3, 3))]"
            ]
          },
          "execution_count": 29,
          "metadata": {},
          "output_type": "execute_result"
        }
      ],
      "source": [
        "def RECORDREADER():\n",
        "    for x in range(1, 4):\n",
        "        for y in range(1, 4):\n",
        "            yield ((x, y), (x + y) % 2)\n",
        "            # Создаём пересечение\n",
        "            if x == 1 and y == 2:\n",
        "                yield ((x, y), (x + y + 1) % 2)\n",
        "            if x == 3 and y == 1:\n",
        "                yield ((x, y), (x + y + 1) % 2)\n",
        "            \n",
        "\n",
        "def MAP(t, id):\n",
        "    yield (t, id)\n",
        "\n",
        "def REDUCE(t, id):\n",
        "    if id == [0]:\n",
        "        yield (t, t)\n",
        "\n",
        "print(\"input\", list(RECORDREADER()))\n",
        "\n",
        "output = MapReduce(RECORDREADER, MAP, REDUCE)\n",
        "output = list(output)\n",
        "output"
      ]
    },
    {
      "cell_type": "markdown",
      "metadata": {
        "id": "j8I58V2VwhSm"
      },
      "source": [
        "### Natural Join\n",
        "\n",
        "**The Map Function:** Для каждого кортежа $(a, b)$ отношения $R$, создайте пару $(b,(R, a))$. Для каждого кортежа $(b, c)$ отношения $S$, создайте пару $(b,(S, c))$.\n",
        "\n",
        "**The Reduce Function:** Каждый ключ $b$ будет асоциирован со списком пар, которые принимают форму либо $(R, a)$, либо $(S, c)$. Создайте все пары, одни, состоящие из  первого компонента $R$, а другие, из первого компонента $S$, то есть $(R, a)$ и $(S, c)$. На выходе вы получаете последовательность пар ключ-значение из списков ключей и значений. Ключ не нужен. Каждое значение, это тройка $(a, b, c)$ такая, что $(R, a)$ и $(S, c)$ это принадлежат входному списку значений."
      ]
    },
    {
      "cell_type": "code",
      "execution_count": 30,
      "metadata": {
        "id": "yHiuuTctw86I"
      },
      "outputs": [
        {
          "name": "stdout",
          "output_type": "stream",
          "text": [
            "input [((1, 1), 0), ((1, 2), 1), ((1, 2), 0), ((1, 3), 0), ((2, 1), 1), ((2, 2), 0), ((2, 3), 1), ((3, 1), 0), ((3, 1), 1), ((3, 2), 1), ((3, 3), 0)]\n"
          ]
        },
        {
          "data": {
            "text/plain": [
              "[(0, 1), (1, 2), (0, 2), (0, 3), (1, 1), (1, 3)]"
            ]
          },
          "execution_count": 30,
          "metadata": {},
          "output_type": "execute_result"
        }
      ],
      "source": [
        "def RECORDREADER():\n",
        "    for x in range(1, 4):\n",
        "        for y in range(1, 4):\n",
        "            yield ((x, y), (x + y) % 2)\n",
        "            # Создаём пересечение\n",
        "            if x == 1 and y == 2:\n",
        "                yield ((x, y), (x + y + 1) % 2)\n",
        "            if x == 3 and y == 1:\n",
        "                yield ((x, y), (x + y + 1) % 2)\n",
        "\n",
        "def MAP(t, id):\n",
        "    if id == [0]:\n",
        "        yield ((id, t[0]), t[1])\n",
        "    else: \n",
        "        yield ((id, t[1]), t[0])\n",
        "\n",
        "def REDUCE(t:Iterator[int], id:int):\n",
        "    res = []\n",
        "    for v in t:\n",
        "        res += [v]\n",
        "    yield tuple(res)\n",
        "\n",
        "\n",
        "print(\"input\", list(RECORDREADER()))\n",
        "\n",
        "output = MapReduce(RECORDREADER, MAP, REDUCE)\n",
        "output = list(output)\n",
        "output"
      ]
    },
    {
      "cell_type": "markdown",
      "metadata": {
        "id": "kYdlr0YUxE27"
      },
      "source": [
        "### Grouping and Aggregation (Группировка и аггрегация)\n",
        "\n",
        "**The Map Function:** Для каждого кортежа $(a, b, c$) создайте пару $(a, b)$.\n",
        "\n",
        "**The Reduce Function:** Ключ представляет ту или иную группу. Примение аггрегирующую операцию $\\theta$ к списку значений $[b1, b2, . . . , bn]$ ассоциированных с ключом $a$. Возвращайте в выходной поток $(a, x)$, где $x$ результат применения  $\\theta$ к списку. Например, если $\\theta$ это $SUM$, тогда $x = b1 + b2 + · · · + bn$, а если $\\theta$ is $MAX$, тогда $x$ это максимальное из значений $b1, b2, . . . , bn$."
      ]
    },
    {
      "cell_type": "code",
      "execution_count": 31,
      "metadata": {
        "id": "MLPckfEGxico"
      },
      "outputs": [
        {
          "name": "stdout",
          "output_type": "stream",
          "text": [
            "input [(None, (0, 1, 1)), (None, (1, 1, 2)), (None, (0, 1, 2)), (None, (0, 1, 3)), (None, (1, 2, 1)), (None, (0, 2, 2)), (None, (1, 2, 3)), (None, (0, 3, 1)), (None, (1, 3, 1)), (None, (1, 3, 2)), (None, (0, 3, 3))]\n"
          ]
        },
        {
          "data": {
            "text/plain": [
              "[(0, 11), (1, 11)]"
            ]
          },
          "execution_count": 31,
          "metadata": {},
          "output_type": "execute_result"
        }
      ],
      "source": [
        "def RECORDREADER():\n",
        "    for x in range(1, 4):\n",
        "        for y in range(1, 4):\n",
        "            yield (None, ((x + y) % 2, x, y))\n",
        "            # Создаём пересечение\n",
        "            if x == 1 and y == 2:\n",
        "                yield (None, ((x + y + 1) % 2, x, y))\n",
        "            if x == 3 and y == 1:\n",
        "                yield (None, ((x + y + 1) % 2, x, y))\n",
        "\n",
        "def MAP(_, t):\n",
        "    yield (t[0], t[1])\n",
        "\n",
        "def REDUCE(k, v:Iterator[int]):\n",
        "    yield (k, sum(v))\n",
        "\n",
        "print(\"input\", list(RECORDREADER()))\n",
        "\n",
        "output = MapReduce(RECORDREADER, MAP, REDUCE)\n",
        "output = list(output)\n",
        "output"
      ]
    },
    {
      "cell_type": "markdown",
      "metadata": {
        "id": "03IffTEOJgOb"
      },
      "source": [
        "#"
      ]
    },
    {
      "cell_type": "markdown",
      "metadata": {
        "id": "IIrRgvG4RIS4"
      },
      "source": [
        "### Matrix-Vector multiplication\n",
        "\n",
        "Случай, когда вектор не помещается в памяти Map задачи\n"
      ]
    },
    {
      "cell_type": "code",
      "execution_count": null,
      "metadata": {
        "id": "KQhDbiL3zS9r"
      },
      "outputs": [],
      "source": []
    },
    {
      "cell_type": "markdown",
      "metadata": {
        "id": "GIo2t7nNxvA9"
      },
      "source": [
        "## Matrix multiplication (Перемножение матриц)\n",
        "\n",
        "Если у нас есть матрица $M$ с элементами $m_{ij}$ в строке $i$ и столбце $j$, и матрица $N$ с элементами $n_{jk}$ в строке $j$ и столбце $k$, тогда их произведение $P = MN$ есть матрица $P$ с элементами $p_{ik}$ в строке $i$ и столбце $k$, где\n",
        "\n",
        "$$p_{ik} =\\sum_{j} m_{ij}n_{jk}$$\n",
        "\n",
        "Необходимым требованием является одинаковое количество столбцов в $M$ и строк в $N$, чтобы операция суммирования по  $j$ была осмысленной. Мы можем размышлять о матрице, как об отношении с тремя атрибутами: номер строки, номер столбца, само значение. Таким образом матрица $M$ предстваляется как отношение $ M(I, J, V )$, с кортежами $(i, j, m_{ij})$, и, аналогично, матрица $N$ представляется как отношение $N(J, K, W)$, с кортежами $(j, k, n_{jk})$. Так как большие матрицы как правило разреженные (большинство значений равно 0), и так как мы можем нулевыми значениями пренебречь (не хранить), такое реляционное представление достаточно эффективно для больших матриц. Однако, возможно, что координаты $i$, $j$, и $k$ неявно закодированы в смещение позиции элемента относительно начала файла, вместо явного хранения. Тогда, функция Map (или Reader) должна быть разработана таким образом, чтобы реконструировать компоненты $I$, $J$, и $K$ кортежей из смещения.\n",
        "\n",
        "Произведение $MN$ это фактически join, за которым следуют группировка по ключу и аггрегация. Таким образом join отношений $M(I, J, V )$ и $N(J, K, W)$, имеющих общим только атрибут $J$, создаст кортежи $(i, j, k, v, w)$ из каждого кортежа $(i, j, v) \\in M$ и кортежа $(j, k, w) \\in N$. Такой 5 компонентный кортеж представляет пару элементов матрицы $(m_{ij} , n_{jk})$. Что нам хотелось бы получить на самом деле, это произведение этих элементов, то есть, 4 компонентный кортеж$(i, j, k, v \\times w)$, так как он представляет произведение $m_{ij}n_{jk}$. Мы представляем отношение как результат одной MapReduce операции, в которой мы можем произвести группировку и аггрегацию, с $I$ и $K$  атрибутами, по которым идёт группировка, и суммой  $V \\times W$.\n",
        "\n",
        "\n",
        "\n"
      ]
    },
    {
      "cell_type": "code",
      "execution_count": 32,
      "metadata": {
        "id": "1MBkGaLAYVCt"
      },
      "outputs": [],
      "source": [
        "# MapReduce model\n",
        "def flatten(nested_iterable):\n",
        "  for iterable in nested_iterable:\n",
        "    for element in iterable:\n",
        "      yield element\n",
        "\n",
        "def groupbykey(iterable):\n",
        "  t = {}\n",
        "  for (k2, v2) in iterable:\n",
        "    t[k2] = t.get(k2, []) + [v2]\n",
        "  return t.items()\n",
        "\n",
        "def MapReduce(RECORDREADER, MAP, REDUCE):\n",
        "  return flatten(map(lambda x: REDUCE(*x), groupbykey(flatten(map(lambda x: MAP(*x), RECORDREADER())))))"
      ]
    },
    {
      "cell_type": "markdown",
      "metadata": {
        "id": "sMspsOT0ZB35"
      },
      "source": [
        "Реализуйте перемножение матриц с использованием модельного кода MapReduce для одной машины в случае, когда одна матрица хранится в памяти, а другая генерируется RECORDREADER-ом."
      ]
    },
    {
      "cell_type": "code",
      "execution_count": 33,
      "metadata": {
        "id": "psP1XekbsEjS"
      },
      "outputs": [],
      "source": [
        "import numpy as np\n",
        "I = 2\n",
        "J = 3\n",
        "K = 4*10\n",
        "small_mat = np.random.rand(I,J) # it is legal to access this from RECORDREADER, MAP, REDUCE\n",
        "big_mat = np.random.rand(J,K)\n",
        "\n",
        "def RECORDREADER():\n",
        "  for j in range(big_mat.shape[0]):\n",
        "    for k in range(big_mat.shape[1]):\n",
        "      yield ((j,k), big_mat[j,k])\n",
        "\n",
        "def MAP(k1, v1):\n",
        "    (j, k) = k1\n",
        "    w = v1\n",
        "    for i in range(small_mat.shape[0]):\n",
        "        yield ((i, k), w * small_mat[i][j])\n",
        "\n",
        "def REDUCE(key, values):\n",
        "    (i, k) = key\n",
        "    el_value = 0\n",
        "    for v in values:\n",
        "        el_value += v\n",
        "    yield ((i, k), el_value)"
      ]
    },
    {
      "cell_type": "markdown",
      "metadata": {
        "id": "rnt306LHhHrm"
      },
      "source": [
        "Проверьте своё решение"
      ]
    },
    {
      "cell_type": "code",
      "execution_count": 34,
      "metadata": {
        "colab": {
          "base_uri": "https://localhost:8080/",
          "height": 34
        },
        "id": "Ewy_ZNYqW5a2",
        "outputId": "9ce264f2-9412-44e2-9b0a-cc780573ab3a"
      },
      "outputs": [
        {
          "data": {
            "text/plain": [
              "True"
            ]
          },
          "execution_count": 34,
          "metadata": {},
          "output_type": "execute_result"
        }
      ],
      "source": [
        "# CHECK THE SOLUTION\n",
        "reference_solution = np.matmul(small_mat, big_mat)\n",
        "solution = MapReduce(RECORDREADER, MAP, REDUCE)\n",
        "\n",
        "def asmatrix(reduce_output):\n",
        "  reduce_output = list(reduce_output)\n",
        "  I = max(i for ((i,k), vw) in reduce_output)+1\n",
        "  K = max(k for ((i,k), vw) in reduce_output)+1\n",
        "  mat = np.empty(shape=(I,K))\n",
        "  for ((i,k), vw) in reduce_output:\n",
        "    mat[i,k] = vw\n",
        "  return mat\n",
        "\n",
        "np.allclose(reference_solution, asmatrix(solution)) # should return true"
      ]
    },
    {
      "cell_type": "code",
      "execution_count": 35,
      "metadata": {
        "colab": {
          "base_uri": "https://localhost:8080/",
          "height": 34
        },
        "id": "TK7v4CEcfxqf",
        "outputId": "2c865d0a-4065-4e6b-c83f-5508ed5eb4fa"
      },
      "outputs": [
        {
          "data": {
            "text/plain": [
              "1"
            ]
          },
          "execution_count": 35,
          "metadata": {},
          "output_type": "execute_result"
        }
      ],
      "source": [
        "reduce_output = list(MapReduce(RECORDREADER, MAP, REDUCE))\n",
        "max(i for ((i,k), vw) in reduce_output)"
      ]
    },
    {
      "cell_type": "markdown",
      "metadata": {
        "id": "i4yyg3kOZqJJ"
      },
      "source": [
        "Реализуйте перемножение матриц  с использованием модельного кода MapReduce для одной машины в случае, когда обе матрицы генерируются в RECORDREADER. Например, сначала одна, а потом другая."
      ]
    },
    {
      "cell_type": "code",
      "execution_count": 36,
      "metadata": {
        "id": "3B7rIAJCaHZq"
      },
      "outputs": [
        {
          "data": {
            "text/plain": [
              "True"
            ]
          },
          "execution_count": 36,
          "metadata": {},
          "output_type": "execute_result"
        }
      ],
      "source": [
        "import numpy as np\n",
        "\n",
        "I = 2\n",
        "J = 3\n",
        "K = 4 * 10\n",
        "small_mat = np.random.rand(I, J)\n",
        "big_mat = np.random.rand(J, K)\n",
        "reference_solution = np.matmul(small_mat, big_mat)\n",
        "\n",
        "def RECORDREADER():\n",
        "    for i in range(small_mat.shape[0]):\n",
        "        for j in range(small_mat.shape[1]):\n",
        "            yield ((0, i, j), small_mat[i, j])\n",
        "    \n",
        "    for j in range(big_mat.shape[0]):\n",
        "        for k in range(big_mat.shape[1]):\n",
        "            yield ((1, j, k), big_mat[j, k])\n",
        "\n",
        "def MAP_JOIN(k1, v1):\n",
        "    (mat_num, i, j) = k1\n",
        "    w = v1\n",
        "    if mat_num == 0:\n",
        "        yield (j, (mat_num, i, w))\n",
        "    else:\n",
        "        yield (i, (mat_num, j, w))\n",
        "\n",
        "def REDUCE_JOIN(key, values):\n",
        "    from_first_mat = [v for v in values if v[0] == 0]\n",
        "    from_second_mat = [v for v in values if v[0] == 1]\n",
        "    for f in from_first_mat:\n",
        "        for s in from_second_mat:\n",
        "            yield ((f[1], s[1]), f[2] * s[2])\n",
        "\n",
        "def MAP_MUL(k1, v1):\n",
        "    (i, k) = k1\n",
        "    yield ((i, k), v1)\n",
        "\n",
        "def REDUCE_MUL(key, values):\n",
        "    res_el_value = 0\n",
        "    for v in values:\n",
        "        res_el_value += v\n",
        "    yield (key, res_el_value)\n",
        "\n",
        "def GET_JOINED():\n",
        "    for j in joined:\n",
        "        yield j\n",
        "\n",
        "joined = MapReduce(RECORDREADER, MAP_JOIN, REDUCE_JOIN)\n",
        "solution = MapReduce(GET_JOINED, MAP_MUL, REDUCE_MUL)\n",
        "np.allclose(reference_solution, asmatrix(solution))"
      ]
    },
    {
      "cell_type": "markdown",
      "metadata": {
        "id": "mXyzQi1DaIwo"
      },
      "source": [
        "Реализуйте перемножение матриц с использованием модельного кода MapReduce Distributed, когда каждая матрица генерируется в своём RECORDREADER."
      ]
    },
    {
      "cell_type": "code",
      "execution_count": 37,
      "metadata": {
        "id": "TDM_s78Rb5eR"
      },
      "outputs": [
        {
          "name": "stdout",
          "output_type": "stream",
          "text": [
            "126 key-value pairs were sent over a network.\n",
            "[(0, [((0, 0), 0.01858818957538684), ((0, 1), 0.09464512732337645), ((0, 2), 0.11276168064276942), ((0, 3), 0.005953812634082777), ((0, 4), 0.09908030737125365), ((0, 5), 0.006741886004689387), ((0, 6), 0.11334151671400203), ((0, 7), 0.03144348237437576), ((0, 8), 0.0885625891446396), ((0, 9), 0.06449699227494987), ((0, 10), 0.007458238287862348), ((0, 11), 0.01007903487455153), ((0, 12), 0.10027251551213788), ((0, 13), 0.03172512751694138), ((0, 14), 0.01933351758998207), ((0, 15), 0.1141274366014224), ((0, 16), 0.0019948698988518612), ((0, 17), 0.09938877833192832), ((0, 18), 0.01128250566019917), ((0, 19), 0.039368206141466994), ((0, 20), 0.08358611389193467), ((0, 21), 0.07280390238185466), ((0, 22), 0.10374028613181384), ((0, 23), 0.008246834255902268), ((0, 24), 0.03934582997300276), ((0, 25), 0.04241739344779944), ((0, 26), 0.07609298357342863), ((0, 27), 0.04606955041296814), ((0, 28), 0.03830417406371149), ((0, 29), 0.07657130161399497), ((0, 30), 0.01844414917462745), ((0, 31), 0.09368389805492369), ((0, 32), 0.08207397880944736), ((0, 33), 0.11592699237850136), ((0, 34), 0.035023960426927944), ((0, 35), 0.04980107107828093), ((0, 36), 0.10084266842410852), ((0, 37), 0.05725921737355962), ((0, 38), 0.041086650606169645), ((0, 39), 0.04283169848634059), ((1, 0), 0.07410183328250991), ((1, 1), 0.3773028792005318), ((1, 2), 0.4495245341542214), ((1, 3), 0.023734879043319713), ((1, 4), 0.3949837281693249), ((1, 5), 0.026876534194093662), ((1, 6), 0.45183605113694886), ((1, 7), 0.12534946877305242), ((1, 8), 0.35305483566583057), ((1, 9), 0.2571173136253212), ((1, 10), 0.029732273169852597), ((1, 11), 0.040180080953746), ((1, 12), 0.39973646691967823), ((1, 13), 0.12647224736935325), ((1, 14), 0.07707308403580822), ((1, 15), 0.4549691214252005), ((1, 16), 0.007952550519538247), ((1, 17), 0.39621344791194457), ((1, 18), 0.04497771824686451), ((1, 19), 0.15694138669584548), ((1, 20), 0.33321611291045417), ((1, 21), 0.29023281771129916), ((1, 22), 0.4135607373941667), ((1, 23), 0.032876011655731334), ((1, 24), 0.1568521840815557), ((1, 25), 0.169096974441743), ((1, 26), 0.30334474263126976), ((1, 27), 0.18365630123669024), ((1, 28), 0.1526996219283135), ((1, 29), 0.30525155789987435), ((1, 30), 0.07352761610446092), ((1, 31), 0.3734709379182311), ((1, 32), 0.3271879851399326), ((1, 33), 0.46214305203500317), ((1, 34), 0.1396230475229284), ((1, 35), 0.1985320114886121), ((1, 36), 0.40200938197991254), ((1, 37), 0.22826391792995301), ((1, 38), 0.16379196699104875), ((1, 39), 0.17074860182425752), ((0, 0), 0.4203864483515969), ((0, 1), 0.5273137590427341), ((0, 2), 0.3658579875378194), ((0, 3), 0.46030990092364893), ((0, 4), 0.3257599148770856), ((0, 5), 0.3362166546064141), ((0, 6), 0.4034798007453456), ((0, 7), 0.006320699783208777), ((0, 8), 0.4482390219714321), ((0, 9), 0.24297987109800162), ((0, 10), 0.5623829860818408), ((0, 11), 0.430870268718432), ((0, 12), 0.3537433202203969), ((0, 13), 0.006824157542533022), ((0, 14), 0.6159071004101548), ((0, 15), 0.29911212688512495), ((0, 16), 0.38363641526596254), ((0, 17), 0.008780205444209517), ((0, 18), 0.1707789174545665), ((0, 19), 0.21886281788171377), ((0, 20), 0.38409470060584017), ((0, 21), 0.22962772698804454), ((0, 22), 0.46098507995415766), ((0, 23), 0.5198588141830486), ((0, 24), 0.36856862599906604), ((0, 25), 0.6046763462936696), ((0, 26), 0.3261511204750245), ((0, 27), 0.3698961885528585), ((0, 28), 0.3062805131730985), ((0, 29), 0.44252114392608943), ((0, 30), 0.2165369079294467), ((0, 31), 0.6159558560344092), ((0, 32), 0.0010418176072432047), ((0, 33), 0.6349845387244094), ((0, 34), 0.37725490156023095), ((0, 35), 0.011938438665733497), ((0, 36), 0.04273999146192545), ((0, 37), 0.1900769682546788), ((0, 38), 0.10575635840632149), ((0, 39), 0.6015635680847422), ((1, 0), 0.19840384469011393), ((1, 1), 0.24886881478294773), ((1, 2), 0.17266881847100202), ((1, 3), 0.21724595179099201), ((1, 4), 0.15374429839727377), ((1, 5), 0.1586794179125619), ((1, 6), 0.19042465340301587), ((1, 7), 0.002983091255766992), ((1, 8), 0.21154902982240903), ((1, 9), 0.11467577224999453), ((1, 10), 0.26541994173328637), ((1, 11), 0.2033517450707678), ((1, 12), 0.1669512303271806), ((1, 13), 0.0032207010918610837), ((1, 14), 0.29068096075045746), ((1, 15), 0.14116771889328805), ((1, 16), 0.18105945148888372), ((1, 17), 0.004143869347194718), ((1, 18), 0.08060010960834506), ((1, 19), 0.10329358783498778), ((1, 20), 0.18127574193723991), ((1, 21), 0.10837414969137125), ((1, 22), 0.21756460648605258), ((1, 23), 0.24535040992495535), ((1, 24), 0.17394812015730765), ((1, 25), 0.2853805406150863), ((1, 26), 0.1539289301688252), ((1, 27), 0.17457467107437896), ((1, 28), 0.1445508807562231), ((1, 29), 0.2088504438139553), ((1, 30), 0.10219586102019086), ((1, 31), 0.2907039712526758), ((1, 32), 0.000491691917171482), ((1, 33), 0.2996846694171577), ((1, 34), 0.1780476587464572), ((1, 35), 0.005634416000245557), ((1, 36), 0.02017138911427624), ((1, 37), 0.08970793762892179), ((1, 38), 0.049912332308797006), ((1, 39), 0.2839114467212644)]), (1, [((0, 0), 0.006243298342161997), ((0, 1), 0.006232327146526083), ((0, 2), 0.0020945702163303642), ((0, 3), 0.0005733044995530886), ((0, 4), 0.008106646254053376), ((0, 5), 0.010667127466302523), ((0, 6), 0.008429701071935709), ((0, 7), 0.004662824033598769), ((0, 8), 0.010804774617647306), ((0, 9), 0.006804413166868142), ((0, 10), 0.008344674191033123), ((0, 11), 0.002413382466236776), ((0, 12), 0.0009322159510627815), ((0, 13), 0.007091966424275335), ((0, 14), 0.004756869608172909), ((0, 15), 0.006995069942816319), ((0, 16), 0.006778915344953642), ((0, 17), 0.008746963417742464), ((0, 18), 0.002212242377570241), ((0, 19), 0.002254376523420385), ((0, 20), 0.0023863146224297927), ((0, 21), 0.009837749376530034), ((0, 22), 0.008491693068673674), ((0, 23), 0.003010802292605187), ((0, 24), 0.0021243934767447158), ((0, 25), 0.00574205655293134), ((0, 26), 0.009035504248789055), ((0, 27), 0.005753435427253632), ((0, 28), 0.009107578383426216), ((0, 29), 0.008457762915875194), ((0, 30), 0.001053585132275308), ((0, 31), 0.009234906055589711), ((0, 32), 0.0012331930843228344), ((0, 33), 0.0022693373498197684), ((0, 34), 0.0013999053679863292), ((0, 35), 0.010103779009177905), ((0, 36), 0.006964149200543712), ((0, 37), 0.0018070210793258179), ((0, 38), 0.0005715396357470219), ((0, 39), 0.0026980977160417936), ((1, 0), 0.07409590706418416), ((1, 1), 0.0739657001370649), ((1, 2), 0.024858507728284972), ((1, 3), 0.006804018419477612), ((1, 4), 0.09621025210122336), ((1, 5), 0.12659822453899472), ((1, 6), 0.10004428956837363), ((1, 7), 0.055338725993116095), ((1, 8), 0.12823183068349317), ((1, 9), 0.08075525755893642), ((1, 10), 0.09903518452164385), ((1, 11), 0.02864219409810991), ((1, 12), 0.011063604954969752), ((1, 13), 0.08416795999107242), ((1, 14), 0.056454865535316825), ((1, 15), 0.08301798568397444), ((1, 16), 0.08045264760192744), ((1, 17), 0.1038095815665327), ((1, 18), 0.026255049274984836), ((1, 19), 0.026755100303150176), ((1, 20), 0.028320951010044445), ((1, 21), 0.11675510660790894), ((1, 22), 0.10078001497780985), ((1, 23), 0.03573241492480931), ((1, 24), 0.025212452295868708), ((1, 25), 0.06814713399647603), ((1, 26), 0.10723400459259094), ((1, 27), 0.06828217928312937), ((1, 28), 0.10808938552893703), ((1, 29), 0.1003773295204368), ((1, 30), 0.012504022996639904), ((1, 31), 0.10960051936337399), ((1, 32), 0.014635622896812773), ((1, 33), 0.026932656450836725), ((1, 34), 0.016614176090942304), ((1, 35), 0.11991236513644654), ((1, 36), 0.08265101612394003), ((1, 37), 0.021445854197379537), ((1, 38), 0.006783072890786125), ((1, 39), 0.03202121485494965)])]\n",
            "aa (0, [((0, 0), 0.01858818957538684), ((0, 1), 0.09464512732337645), ((0, 2), 0.11276168064276942), ((0, 3), 0.005953812634082777), ((0, 4), 0.09908030737125365), ((0, 5), 0.006741886004689387), ((0, 6), 0.11334151671400203), ((0, 7), 0.03144348237437576), ((0, 8), 0.0885625891446396), ((0, 9), 0.06449699227494987), ((0, 10), 0.007458238287862348), ((0, 11), 0.01007903487455153), ((0, 12), 0.10027251551213788), ((0, 13), 0.03172512751694138), ((0, 14), 0.01933351758998207), ((0, 15), 0.1141274366014224), ((0, 16), 0.0019948698988518612), ((0, 17), 0.09938877833192832), ((0, 18), 0.01128250566019917), ((0, 19), 0.039368206141466994), ((0, 20), 0.08358611389193467), ((0, 21), 0.07280390238185466), ((0, 22), 0.10374028613181384), ((0, 23), 0.008246834255902268), ((0, 24), 0.03934582997300276), ((0, 25), 0.04241739344779944), ((0, 26), 0.07609298357342863), ((0, 27), 0.04606955041296814), ((0, 28), 0.03830417406371149), ((0, 29), 0.07657130161399497), ((0, 30), 0.01844414917462745), ((0, 31), 0.09368389805492369), ((0, 32), 0.08207397880944736), ((0, 33), 0.11592699237850136), ((0, 34), 0.035023960426927944), ((0, 35), 0.04980107107828093), ((0, 36), 0.10084266842410852), ((0, 37), 0.05725921737355962), ((0, 38), 0.041086650606169645), ((0, 39), 0.04283169848634059), ((1, 0), 0.07410183328250991), ((1, 1), 0.3773028792005318), ((1, 2), 0.4495245341542214), ((1, 3), 0.023734879043319713), ((1, 4), 0.3949837281693249), ((1, 5), 0.026876534194093662), ((1, 6), 0.45183605113694886), ((1, 7), 0.12534946877305242), ((1, 8), 0.35305483566583057), ((1, 9), 0.2571173136253212), ((1, 10), 0.029732273169852597), ((1, 11), 0.040180080953746), ((1, 12), 0.39973646691967823), ((1, 13), 0.12647224736935325), ((1, 14), 0.07707308403580822), ((1, 15), 0.4549691214252005), ((1, 16), 0.007952550519538247), ((1, 17), 0.39621344791194457), ((1, 18), 0.04497771824686451), ((1, 19), 0.15694138669584548), ((1, 20), 0.33321611291045417), ((1, 21), 0.29023281771129916), ((1, 22), 0.4135607373941667), ((1, 23), 0.032876011655731334), ((1, 24), 0.1568521840815557), ((1, 25), 0.169096974441743), ((1, 26), 0.30334474263126976), ((1, 27), 0.18365630123669024), ((1, 28), 0.1526996219283135), ((1, 29), 0.30525155789987435), ((1, 30), 0.07352761610446092), ((1, 31), 0.3734709379182311), ((1, 32), 0.3271879851399326), ((1, 33), 0.46214305203500317), ((1, 34), 0.1396230475229284), ((1, 35), 0.1985320114886121), ((1, 36), 0.40200938197991254), ((1, 37), 0.22826391792995301), ((1, 38), 0.16379196699104875), ((1, 39), 0.17074860182425752), ((0, 0), 0.4203864483515969), ((0, 1), 0.5273137590427341), ((0, 2), 0.3658579875378194), ((0, 3), 0.46030990092364893), ((0, 4), 0.3257599148770856), ((0, 5), 0.3362166546064141), ((0, 6), 0.4034798007453456), ((0, 7), 0.006320699783208777), ((0, 8), 0.4482390219714321), ((0, 9), 0.24297987109800162), ((0, 10), 0.5623829860818408), ((0, 11), 0.430870268718432), ((0, 12), 0.3537433202203969), ((0, 13), 0.006824157542533022), ((0, 14), 0.6159071004101548), ((0, 15), 0.29911212688512495), ((0, 16), 0.38363641526596254), ((0, 17), 0.008780205444209517), ((0, 18), 0.1707789174545665), ((0, 19), 0.21886281788171377), ((0, 20), 0.38409470060584017), ((0, 21), 0.22962772698804454), ((0, 22), 0.46098507995415766), ((0, 23), 0.5198588141830486), ((0, 24), 0.36856862599906604), ((0, 25), 0.6046763462936696), ((0, 26), 0.3261511204750245), ((0, 27), 0.3698961885528585), ((0, 28), 0.3062805131730985), ((0, 29), 0.44252114392608943), ((0, 30), 0.2165369079294467), ((0, 31), 0.6159558560344092), ((0, 32), 0.0010418176072432047), ((0, 33), 0.6349845387244094), ((0, 34), 0.37725490156023095), ((0, 35), 0.011938438665733497), ((0, 36), 0.04273999146192545), ((0, 37), 0.1900769682546788), ((0, 38), 0.10575635840632149), ((0, 39), 0.6015635680847422), ((1, 0), 0.19840384469011393), ((1, 1), 0.24886881478294773), ((1, 2), 0.17266881847100202), ((1, 3), 0.21724595179099201), ((1, 4), 0.15374429839727377), ((1, 5), 0.1586794179125619), ((1, 6), 0.19042465340301587), ((1, 7), 0.002983091255766992), ((1, 8), 0.21154902982240903), ((1, 9), 0.11467577224999453), ((1, 10), 0.26541994173328637), ((1, 11), 0.2033517450707678), ((1, 12), 0.1669512303271806), ((1, 13), 0.0032207010918610837), ((1, 14), 0.29068096075045746), ((1, 15), 0.14116771889328805), ((1, 16), 0.18105945148888372), ((1, 17), 0.004143869347194718), ((1, 18), 0.08060010960834506), ((1, 19), 0.10329358783498778), ((1, 20), 0.18127574193723991), ((1, 21), 0.10837414969137125), ((1, 22), 0.21756460648605258), ((1, 23), 0.24535040992495535), ((1, 24), 0.17394812015730765), ((1, 25), 0.2853805406150863), ((1, 26), 0.1539289301688252), ((1, 27), 0.17457467107437896), ((1, 28), 0.1445508807562231), ((1, 29), 0.2088504438139553), ((1, 30), 0.10219586102019086), ((1, 31), 0.2907039712526758), ((1, 32), 0.000491691917171482), ((1, 33), 0.2996846694171577), ((1, 34), 0.1780476587464572), ((1, 35), 0.005634416000245557), ((1, 36), 0.02017138911427624), ((1, 37), 0.08970793762892179), ((1, 38), 0.049912332308797006), ((1, 39), 0.2839114467212644)])\n",
            "aa (1, [((0, 0), 0.006243298342161997), ((0, 1), 0.006232327146526083), ((0, 2), 0.0020945702163303642), ((0, 3), 0.0005733044995530886), ((0, 4), 0.008106646254053376), ((0, 5), 0.010667127466302523), ((0, 6), 0.008429701071935709), ((0, 7), 0.004662824033598769), ((0, 8), 0.010804774617647306), ((0, 9), 0.006804413166868142), ((0, 10), 0.008344674191033123), ((0, 11), 0.002413382466236776), ((0, 12), 0.0009322159510627815), ((0, 13), 0.007091966424275335), ((0, 14), 0.004756869608172909), ((0, 15), 0.006995069942816319), ((0, 16), 0.006778915344953642), ((0, 17), 0.008746963417742464), ((0, 18), 0.002212242377570241), ((0, 19), 0.002254376523420385), ((0, 20), 0.0023863146224297927), ((0, 21), 0.009837749376530034), ((0, 22), 0.008491693068673674), ((0, 23), 0.003010802292605187), ((0, 24), 0.0021243934767447158), ((0, 25), 0.00574205655293134), ((0, 26), 0.009035504248789055), ((0, 27), 0.005753435427253632), ((0, 28), 0.009107578383426216), ((0, 29), 0.008457762915875194), ((0, 30), 0.001053585132275308), ((0, 31), 0.009234906055589711), ((0, 32), 0.0012331930843228344), ((0, 33), 0.0022693373498197684), ((0, 34), 0.0013999053679863292), ((0, 35), 0.010103779009177905), ((0, 36), 0.006964149200543712), ((0, 37), 0.0018070210793258179), ((0, 38), 0.0005715396357470219), ((0, 39), 0.0026980977160417936), ((1, 0), 0.07409590706418416), ((1, 1), 0.0739657001370649), ((1, 2), 0.024858507728284972), ((1, 3), 0.006804018419477612), ((1, 4), 0.09621025210122336), ((1, 5), 0.12659822453899472), ((1, 6), 0.10004428956837363), ((1, 7), 0.055338725993116095), ((1, 8), 0.12823183068349317), ((1, 9), 0.08075525755893642), ((1, 10), 0.09903518452164385), ((1, 11), 0.02864219409810991), ((1, 12), 0.011063604954969752), ((1, 13), 0.08416795999107242), ((1, 14), 0.056454865535316825), ((1, 15), 0.08301798568397444), ((1, 16), 0.08045264760192744), ((1, 17), 0.1038095815665327), ((1, 18), 0.026255049274984836), ((1, 19), 0.026755100303150176), ((1, 20), 0.028320951010044445), ((1, 21), 0.11675510660790894), ((1, 22), 0.10078001497780985), ((1, 23), 0.03573241492480931), ((1, 24), 0.025212452295868708), ((1, 25), 0.06814713399647603), ((1, 26), 0.10723400459259094), ((1, 27), 0.06828217928312937), ((1, 28), 0.10808938552893703), ((1, 29), 0.1003773295204368), ((1, 30), 0.012504022996639904), ((1, 31), 0.10960051936337399), ((1, 32), 0.014635622896812773), ((1, 33), 0.026932656450836725), ((1, 34), 0.016614176090942304), ((1, 35), 0.11991236513644654), ((1, 36), 0.08265101612394003), ((1, 37), 0.021445854197379537), ((1, 38), 0.006783072890786125), ((1, 39), 0.03202121485494965)])\n",
            "240 key-value pairs were sent over a network.\n",
            "[(0, [((0, 1), 0.6281912135126367), ((0, 2), 0.4807142383969192), ((0, 4), 0.43294686850239267), ((0, 5), 0.35362566807740603), ((0, 8), 0.547606385733719), ((0, 9), 0.31428127653981963), ((0, 11), 0.4433626860592203), ((0, 12), 0.4549480516835976), ((0, 15), 0.4202346334293637), ((0, 16), 0.392410200509768), ((0, 18), 0.1842736654923359), ((0, 19), 0.26048540054660113), ((0, 22), 0.5732170591546452), ((0, 23), 0.531116450731556), ((0, 25), 0.6528357962944005), ((0, 26), 0.4112796082972422), ((0, 29), 0.5275502084559596), ((0, 32), 0.0843489895010134), ((0, 33), 0.7531808684527306), ((0, 36), 0.1505468090865777), ((0, 39), 0.6470933642871246), ((1, 0), 0.346601585036808), ((1, 1), 0.7001373941205444), ((1, 3), 0.24778484925378935), ((1, 4), 0.644938278667822), ((1, 7), 0.1836712860219355), ((1, 10), 0.3941873994247828), ((1, 11), 0.2721740201226237), ((1, 14), 0.4242089103215825), ((1, 17), 0.504166898825672), ((1, 18), 0.15183287713019442), ((1, 21), 0.5153620740105793), ((1, 24), 0.3560127565347321), ((1, 25), 0.5226246490533053), ((1, 27), 0.42651315159419856), ((1, 28), 0.4053398882134736), ((1, 31), 0.7737754285342808), ((1, 32), 0.3423152999539168), ((1, 34), 0.3342848823603279), ((1, 35), 0.3240787926253042), ((1, 38), 0.22048737219063186), ((1, 39), 0.4866812634004715)]), (1, [((0, 0), 0.4452179362691457), ((0, 3), 0.4668370180572848), ((0, 6), 0.5252510185312834), ((0, 7), 0.04242700619118331), ((0, 10), 0.5781858985607362), ((0, 13), 0.045641251483749735), ((0, 14), 0.6399974876083098), ((0, 17), 0.11691594719388029), ((0, 20), 0.4700671291202046), ((0, 21), 0.31226937874642924), ((0, 24), 0.41003884944881347), ((0, 27), 0.42171917439308026), ((0, 28), 0.35369226562023626), ((0, 30), 0.23603464223634943), ((0, 31), 0.7188746601449226), ((0, 34), 0.41367876735514525), ((0, 35), 0.07184328875319233), ((0, 37), 0.24914320670756424), ((0, 38), 0.14741454864823816), ((1, 2), 0.6470518603535085), ((1, 5), 0.31215417664565026), ((1, 6), 0.7423049941083384), ((1, 8), 0.6928356961717328), ((1, 9), 0.45254834343425215), ((1, 12), 0.5777513022018286), ((1, 13), 0.21386090845228678), ((1, 15), 0.679154826002463), ((1, 16), 0.26946464961034944), ((1, 19), 0.2869900748339834), ((1, 20), 0.5428128058577385), ((1, 22), 0.7319053588580292), ((1, 23), 0.313958836505496), ((1, 26), 0.5645076773926859), ((1, 29), 0.6144793312342663), ((1, 30), 0.1882275001212917), ((1, 33), 0.7887603779029977), ((1, 36), 0.5048317872181288), ((1, 37), 0.33941770975625435)])]\n",
            "[((0, 1), 0.6281912135126367), ((0, 2), 0.4807142383969192), ((0, 4), 0.43294686850239267), ((0, 5), 0.35362566807740603), ((0, 8), 0.547606385733719), ((0, 9), 0.31428127653981963), ((0, 11), 0.4433626860592203), ((0, 12), 0.4549480516835976), ((0, 15), 0.4202346334293637), ((0, 16), 0.392410200509768), ((0, 18), 0.1842736654923359), ((0, 19), 0.26048540054660113), ((0, 22), 0.5732170591546452), ((0, 23), 0.531116450731556), ((0, 25), 0.6528357962944005), ((0, 26), 0.4112796082972422), ((0, 29), 0.5275502084559596), ((0, 32), 0.0843489895010134), ((0, 33), 0.7531808684527306), ((0, 36), 0.1505468090865777), ((0, 39), 0.6470933642871246), ((1, 0), 0.346601585036808), ((1, 1), 0.7001373941205444), ((1, 3), 0.24778484925378935), ((1, 4), 0.644938278667822), ((1, 7), 0.1836712860219355), ((1, 10), 0.3941873994247828), ((1, 11), 0.2721740201226237), ((1, 14), 0.4242089103215825), ((1, 17), 0.504166898825672), ((1, 18), 0.15183287713019442), ((1, 21), 0.5153620740105793), ((1, 24), 0.3560127565347321), ((1, 25), 0.5226246490533053), ((1, 27), 0.42651315159419856), ((1, 28), 0.4053398882134736), ((1, 31), 0.7737754285342808), ((1, 32), 0.3423152999539168), ((1, 34), 0.3342848823603279), ((1, 35), 0.3240787926253042), ((1, 38), 0.22048737219063186), ((1, 39), 0.4866812634004715), ((0, 0), 0.4452179362691457), ((0, 3), 0.4668370180572848), ((0, 6), 0.5252510185312834), ((0, 7), 0.04242700619118331), ((0, 10), 0.5781858985607362), ((0, 13), 0.045641251483749735), ((0, 14), 0.6399974876083098), ((0, 17), 0.11691594719388029), ((0, 20), 0.4700671291202046), ((0, 21), 0.31226937874642924), ((0, 24), 0.41003884944881347), ((0, 27), 0.42171917439308026), ((0, 28), 0.35369226562023626), ((0, 30), 0.23603464223634943), ((0, 31), 0.7188746601449226), ((0, 34), 0.41367876735514525), ((0, 35), 0.07184328875319233), ((0, 37), 0.24914320670756424), ((0, 38), 0.14741454864823816), ((1, 2), 0.6470518603535085), ((1, 5), 0.31215417664565026), ((1, 6), 0.7423049941083384), ((1, 8), 0.6928356961717328), ((1, 9), 0.45254834343425215), ((1, 12), 0.5777513022018286), ((1, 13), 0.21386090845228678), ((1, 15), 0.679154826002463), ((1, 16), 0.26946464961034944), ((1, 19), 0.2869900748339834), ((1, 20), 0.5428128058577385), ((1, 22), 0.7319053588580292), ((1, 23), 0.313958836505496), ((1, 26), 0.5645076773926859), ((1, 29), 0.6144793312342663), ((1, 30), 0.1882275001212917), ((1, 33), 0.7887603779029977), ((1, 36), 0.5048317872181288), ((1, 37), 0.33941770975625435)]\n"
          ]
        },
        {
          "data": {
            "text/plain": [
              "True"
            ]
          },
          "execution_count": 37,
          "metadata": {},
          "output_type": "execute_result"
        }
      ],
      "source": [
        "I = 2\n",
        "J = 3\n",
        "K = 4 * 10\n",
        "\n",
        "small_mat = np.random.rand(I, J)\n",
        "big_mat = np.random.rand(J, K)\n",
        "\n",
        "reference_solution = np.matmul(small_mat, big_mat)\n",
        "\n",
        "def asmatrix(reduce_output):\n",
        "    reduce_output = list(reduce_output)\n",
        "    I = max(i for ((i, k), vw) in reduce_output) + 1\n",
        "    K = max(k for ((i, k), vw) in reduce_output) + 1\n",
        "    mat = np.empty(shape=(I, K))\n",
        "    for ((i, k), vw) in reduce_output:\n",
        "        mat[i, k] = vw\n",
        "    return mat\n",
        "\n",
        "def INPUTFORMAT():\n",
        "    first_mat = []\n",
        "    for i in range(small_mat.shape[0]):\n",
        "        for j in range(small_mat.shape[1]):\n",
        "            first_mat.append(((0, i, j), small_mat[i, j]))\n",
        "    yield first_mat\n",
        "    \n",
        "    second_mat = []\n",
        "    for j in range(big_mat.shape[0]):\n",
        "        for k in range(big_mat.shape[1]):\n",
        "            second_mat.append(((1, j, k), big_mat[j, k]))\n",
        "    yield second_mat\n",
        "\n",
        "def MAP_JOIN(k1, v1):\n",
        "    (mat_num, i, j) = k1\n",
        "    w = v1\n",
        "    if mat_num == 0:\n",
        "        yield (j, (mat_num, i, w))\n",
        "    else:\n",
        "        yield (i, (mat_num, j, w))\n",
        "\n",
        "def REDUCE_JOIN(key, values):\n",
        "    from_first_mat = [v for v in values if v[0] == 0]\n",
        "    from_second_mat = [v for v in values if v[0] == 1]\n",
        "    for f in from_first_mat:\n",
        "        for s in from_second_mat:\n",
        "            yield ((f[1], s[1]), f[2] * s[2])\n",
        "\n",
        "def GET_JOINED():\n",
        "    for j in joined:\n",
        "        print(\"aa\", j)\n",
        "        yield j[1]\n",
        "\n",
        "def MAP_MUL(k1, v1):\n",
        "    yield (k1, v1)\n",
        "\n",
        "def REDUCE_MUL(key, values):\n",
        "    res_val = 0\n",
        "    for v in values:\n",
        "        res_val += v\n",
        "    yield (key, res_val)\n",
        "\n",
        "maps = 4\n",
        "reducers = 2\n",
        "\n",
        "partitioned_output = MapReduceDistributed(INPUTFORMAT, MAP_JOIN, REDUCE_JOIN, COMBINER=None)\n",
        "joined = [(partition_id, list(partition)) for (partition_id, partition) in partitioned_output]\n",
        "print(joined)\n",
        "\n",
        "mul_output = MapReduceDistributed(GET_JOINED, MAP_MUL, REDUCE_MUL, COMBINER=None)\n",
        "pre_result = [(partition_id, list(partition)) for (partition_id, partition) in mul_output]\n",
        "print(pre_result)\n",
        "\n",
        "solution = []\n",
        "for p in pre_result:\n",
        "    for v in p[1]:\n",
        "        solution.append(v)\n",
        "\n",
        "print(solution)\n",
        "\n",
        "np.allclose(reference_solution, asmatrix(solution))"
      ]
    },
    {
      "cell_type": "markdown",
      "metadata": {
        "id": "ZuSA2P9Db6UM"
      },
      "source": [
        "Обобщите предыдущее решение на случай, когда каждая матрица генерируется несколькими RECORDREADER-ами, и проверьте его работоспособность. Будет ли работать решение, если RECORDREADER-ы будут генерировать случайное подмножество элементов матрицы?"
      ]
    },
    {
      "cell_type": "code",
      "execution_count": 38,
      "metadata": {
        "id": "ehN0FqRDcwU5"
      },
      "outputs": [
        {
          "name": "stdout",
          "output_type": "stream",
          "text": [
            "126 key-value pairs were sent over a network.\n",
            "[(0, [((0, 0), 0.5168650765243704), ((0, 1), 0.13763305249337288), ((0, 2), 0.30041329893082086), ((0, 3), 0.40195312233481945), ((0, 4), 0.6663434405962856), ((0, 5), 0.26017436694101886), ((0, 6), 0.01212758718041397), ((0, 7), 0.2984343895510508), ((0, 8), 0.09621558179539229), ((0, 9), 0.08893070545042729), ((0, 10), 0.6251961312496821), ((0, 11), 0.41862198729870814), ((0, 12), 0.6496089953556583), ((0, 13), 0.45151329725687167), ((0, 14), 0.2152890917874342), ((0, 15), 0.23383452186059428), ((0, 16), 0.49670850415714823), ((0, 17), 0.2506363615822002), ((0, 18), 0.3899663812042519), ((0, 19), 0.46530502359352055), ((0, 20), 0.5649776003394995), ((0, 21), 0.48529802957065393), ((0, 22), 0.19490426826738308), ((0, 23), 0.5640637646884129), ((0, 24), 0.015789026717942786), ((0, 25), 0.13658816715229713), ((0, 26), 0.5775351598000837), ((0, 27), 0.29540911066889286), ((0, 28), 0.4427360327244187), ((0, 29), 0.46366764703852337), ((0, 30), 0.12441789861316613), ((0, 31), 0.5619872420431671), ((0, 32), 0.04733618710308139), ((0, 33), 0.22120772513968523), ((0, 34), 0.460609155970282), ((0, 35), 0.2979051892195135), ((0, 36), 0.2946221730604137), ((0, 37), 0.7438100771326961), ((0, 38), 0.16930678023329834), ((0, 39), 0.6079804636143086), ((1, 0), 0.48887282045622693), ((1, 1), 0.130179154321839), ((1, 2), 0.2841435868301411), ((1, 3), 0.3801842405921282), ((1, 4), 0.6302557707851884), ((1, 5), 0.2460839053630122), ((1, 6), 0.01147078419398338), ((1, 7), 0.28227185075460487), ((1, 8), 0.09100476116600693), ((1, 9), 0.08411441742410397), ((1, 10), 0.591336907646424), ((1, 11), 0.3959503571258616), ((1, 12), 0.6144276256557697), ((1, 13), 0.42706034733041204), ((1, 14), 0.20362951628174075), ((1, 15), 0.22117056735720847), ((1, 16), 0.4698078829484413), ((1, 17), 0.23706245703330978), ((1, 18), 0.3688466745410721), ((1, 19), 0.4401051446274104), ((1, 20), 0.534379677632445), ((1, 21), 0.4590153741348176), ((1, 22), 0.18434868919285552), ((1, 23), 0.5335153332755301), ((1, 24), 0.014933928358565484), ((1, 25), 0.1291908576329235), ((1, 26), 0.5462571477699599), ((1, 27), 0.27941041420769697), ((1, 28), 0.4187584398060634), ((1, 29), 0.43855644472303096), ((1, 30), 0.11767970360711245), ((1, 31), 0.5315512704505684), ((1, 32), 0.04477256512345528), ((1, 33), 0.20922760969447074), ((1, 34), 0.4356635946877262), ((1, 35), 0.28177131072894734), ((1, 36), 0.2786660953793341), ((1, 37), 0.7035269876170084), ((1, 38), 0.16013750383677258), ((1, 39), 0.5750536020504321), ((0, 0), 0.6136056357500116), ((0, 1), 0.45836803813603), ((0, 2), 0.2663064994653613), ((0, 3), 0.029785180047101224), ((0, 4), 0.36704483693966466), ((0, 5), 0.1933114035186154), ((0, 6), 0.5489369721198101), ((0, 7), 0.07481842552078352), ((0, 8), 0.042507535839502876), ((0, 9), 0.30801036740846593), ((0, 10), 0.38778629085659705), ((0, 11), 0.17462156777089635), ((0, 12), 0.5859465687945246), ((0, 13), 0.030995338106754394), ((0, 14), 0.502345141512351), ((0, 15), 0.02686828176168607), ((0, 16), 0.3141908688752165), ((0, 17), 0.35336192360073165), ((0, 18), 0.4358088306796227), ((0, 19), 0.18525721925472163), ((0, 20), 0.0411609093286008), ((0, 21), 0.545063815233787), ((0, 22), 0.04654813685449056), ((0, 23), 0.2520660017241912), ((0, 24), 0.13241138161988714), ((0, 25), 0.5496908452880102), ((0, 26), 0.4821514627839143), ((0, 27), 0.30451979173938215), ((0, 28), 0.43434820033615507), ((0, 29), 0.20604799484875544), ((0, 30), 0.2406107574913092), ((0, 31), 0.26363503319060544), ((0, 32), 0.007366573173103921), ((0, 33), 0.5880923751912036), ((0, 34), 0.520995876205707), ((0, 35), 0.35563418173474637), ((0, 36), 0.3612826358735786), ((0, 37), 0.01675950444259175), ((0, 38), 0.1322935900028281), ((0, 39), 0.6072285940893312), ((1, 0), 0.44977572139188793), ((1, 1), 0.3359858563939427), ((1, 2), 0.19520387514364357), ((1, 3), 0.02183267242338389), ((1, 4), 0.2690455346224424), ((1, 5), 0.14169813786763602), ((1, 6), 0.4023732968685687), ((1, 7), 0.05484224614541443), ((1, 8), 0.03115821707444866), ((1, 9), 0.22577299999533224), ((1, 10), 0.2842491146658395), ((1, 11), 0.12799840327205775), ((1, 12), 0.4295014995332102), ((1, 13), 0.022719723784334015), ((1, 14), 0.3682212731557745), ((1, 15), 0.019694572715505943), ((1, 16), 0.23030333567644698), ((1, 17), 0.2590158969216105), ((1, 18), 0.31944985473983034), ((1, 19), 0.13579438417559547), ((1, 20), 0.030171133718139363), ((1, 21), 0.39953425525783504), ((1, 22), 0.034119995993169824), ((1, 23), 0.18476552554034265), ((1, 24), 0.09705814487148015), ((1, 25), 0.4029258893291166), ((1, 26), 0.35341921481656624), ((1, 27), 0.2232143921564128), ((1, 28), 0.31837920605581516), ((1, 29), 0.1510341172325995), ((1, 30), 0.17636877942462761), ((1, 31), 0.19324567821568714), ((1, 32), 0.005399731635562772), ((1, 33), 0.43107438538008475), ((1, 34), 0.3818923465006916), ((1, 35), 0.2606814724669945), ((1, 36), 0.26482181503724644), ((1, 37), 0.012284792970689584), ((1, 38), 0.09697180308051552), ((1, 39), 0.44510132085485116)]), (1, [((0, 0), 0.32682057291521277), ((0, 1), 0.5558340300133744), ((0, 2), 0.3781806660182494), ((0, 3), 0.3622612135355989), ((0, 4), 0.25061281401719865), ((0, 5), 0.2901127887706732), ((0, 6), 0.1800459198123052), ((0, 7), 0.15065792256215646), ((0, 8), 0.3777312905245235), ((0, 9), 0.006245047414614903), ((0, 10), 0.01073535377768427), ((0, 11), 0.5413661073048838), ((0, 12), 0.49973112155120597), ((0, 13), 0.1225176308434831), ((0, 14), 0.2364075809796438), ((0, 15), 0.4988506588753381), ((0, 16), 0.6424481258132065), ((0, 17), 0.16744013953224088), ((0, 18), 0.3070391765304661), ((0, 19), 0.5603952980484178), ((0, 20), 0.003168442164178398), ((0, 21), 0.6342981278868646), ((0, 22), 0.6928204631699904), ((0, 23), 0.04668532641519856), ((0, 24), 0.45390950335228814), ((0, 25), 0.4188856218191969), ((0, 26), 0.6830566896846424), ((0, 27), 0.4347130918706303), ((0, 28), 0.6368914866223951), ((0, 29), 0.5526282622694455), ((0, 30), 0.5197435573422206), ((0, 31), 0.3694988339474583), ((0, 32), 0.3753674210394542), ((0, 33), 0.270697945535103), ((0, 34), 0.07872969533650416), ((0, 35), 0.08240923985031909), ((0, 36), 0.5909602437046321), ((0, 37), 0.10749367906668289), ((0, 38), 0.5082462801104797), ((0, 39), 0.10582285818226857), ((1, 0), 0.15858609423057055), ((1, 1), 0.26971235951883277), ((1, 2), 0.1835080154299502), ((1, 3), 0.17578327592229487), ((1, 4), 0.12160711605334174), ((1, 5), 0.14077404505809807), ((1, 6), 0.08736530552680796), ((1, 7), 0.07310510256715853), ((1, 8), 0.18328996090615676), ((1, 9), 0.0030303406818439), ((1, 10), 0.005209212537021113), ((1, 11), 0.2626919588950185), ((1, 12), 0.24248903924670687), ((1, 13), 0.059450335015756486), ((1, 14), 0.11471418270778605), ((1, 15), 0.24206180440149438), ((1, 16), 0.31174089840696245), ((1, 17), 0.08124848906843042), ((1, 18), 0.14898738885195426), ((1, 19), 0.271925664746114), ((1, 20), 0.0015374517678936465), ((1, 21), 0.30778620140733043), ((1, 22), 0.3361835219768974), ((1, 23), 0.022653541997144578), ((1, 24), 0.22025460217723877), ((1, 25), 0.203259648256244), ((1, 26), 0.3314457581079287), ((1, 27), 0.21093975429919903), ((1, 28), 0.30904460025639313), ((1, 29), 0.26815679592323277), ((1, 30), 0.25219985396019934), ((1, 31), 0.17929525175172956), ((1, 32), 0.18214291919588713), ((1, 33), 0.13135320557004462), ((1, 34), 0.038202720140932074), ((1, 35), 0.03998817871163478), ((1, 36), 0.286756968995881), ((1, 37), 0.0521601273922318), ((1, 38), 0.24662092643368505), ((1, 39), 0.0513493799051485)])]\n",
            "aa (0, [((0, 0), 0.5168650765243704), ((0, 1), 0.13763305249337288), ((0, 2), 0.30041329893082086), ((0, 3), 0.40195312233481945), ((0, 4), 0.6663434405962856), ((0, 5), 0.26017436694101886), ((0, 6), 0.01212758718041397), ((0, 7), 0.2984343895510508), ((0, 8), 0.09621558179539229), ((0, 9), 0.08893070545042729), ((0, 10), 0.6251961312496821), ((0, 11), 0.41862198729870814), ((0, 12), 0.6496089953556583), ((0, 13), 0.45151329725687167), ((0, 14), 0.2152890917874342), ((0, 15), 0.23383452186059428), ((0, 16), 0.49670850415714823), ((0, 17), 0.2506363615822002), ((0, 18), 0.3899663812042519), ((0, 19), 0.46530502359352055), ((0, 20), 0.5649776003394995), ((0, 21), 0.48529802957065393), ((0, 22), 0.19490426826738308), ((0, 23), 0.5640637646884129), ((0, 24), 0.015789026717942786), ((0, 25), 0.13658816715229713), ((0, 26), 0.5775351598000837), ((0, 27), 0.29540911066889286), ((0, 28), 0.4427360327244187), ((0, 29), 0.46366764703852337), ((0, 30), 0.12441789861316613), ((0, 31), 0.5619872420431671), ((0, 32), 0.04733618710308139), ((0, 33), 0.22120772513968523), ((0, 34), 0.460609155970282), ((0, 35), 0.2979051892195135), ((0, 36), 0.2946221730604137), ((0, 37), 0.7438100771326961), ((0, 38), 0.16930678023329834), ((0, 39), 0.6079804636143086), ((1, 0), 0.48887282045622693), ((1, 1), 0.130179154321839), ((1, 2), 0.2841435868301411), ((1, 3), 0.3801842405921282), ((1, 4), 0.6302557707851884), ((1, 5), 0.2460839053630122), ((1, 6), 0.01147078419398338), ((1, 7), 0.28227185075460487), ((1, 8), 0.09100476116600693), ((1, 9), 0.08411441742410397), ((1, 10), 0.591336907646424), ((1, 11), 0.3959503571258616), ((1, 12), 0.6144276256557697), ((1, 13), 0.42706034733041204), ((1, 14), 0.20362951628174075), ((1, 15), 0.22117056735720847), ((1, 16), 0.4698078829484413), ((1, 17), 0.23706245703330978), ((1, 18), 0.3688466745410721), ((1, 19), 0.4401051446274104), ((1, 20), 0.534379677632445), ((1, 21), 0.4590153741348176), ((1, 22), 0.18434868919285552), ((1, 23), 0.5335153332755301), ((1, 24), 0.014933928358565484), ((1, 25), 0.1291908576329235), ((1, 26), 0.5462571477699599), ((1, 27), 0.27941041420769697), ((1, 28), 0.4187584398060634), ((1, 29), 0.43855644472303096), ((1, 30), 0.11767970360711245), ((1, 31), 0.5315512704505684), ((1, 32), 0.04477256512345528), ((1, 33), 0.20922760969447074), ((1, 34), 0.4356635946877262), ((1, 35), 0.28177131072894734), ((1, 36), 0.2786660953793341), ((1, 37), 0.7035269876170084), ((1, 38), 0.16013750383677258), ((1, 39), 0.5750536020504321), ((0, 0), 0.6136056357500116), ((0, 1), 0.45836803813603), ((0, 2), 0.2663064994653613), ((0, 3), 0.029785180047101224), ((0, 4), 0.36704483693966466), ((0, 5), 0.1933114035186154), ((0, 6), 0.5489369721198101), ((0, 7), 0.07481842552078352), ((0, 8), 0.042507535839502876), ((0, 9), 0.30801036740846593), ((0, 10), 0.38778629085659705), ((0, 11), 0.17462156777089635), ((0, 12), 0.5859465687945246), ((0, 13), 0.030995338106754394), ((0, 14), 0.502345141512351), ((0, 15), 0.02686828176168607), ((0, 16), 0.3141908688752165), ((0, 17), 0.35336192360073165), ((0, 18), 0.4358088306796227), ((0, 19), 0.18525721925472163), ((0, 20), 0.0411609093286008), ((0, 21), 0.545063815233787), ((0, 22), 0.04654813685449056), ((0, 23), 0.2520660017241912), ((0, 24), 0.13241138161988714), ((0, 25), 0.5496908452880102), ((0, 26), 0.4821514627839143), ((0, 27), 0.30451979173938215), ((0, 28), 0.43434820033615507), ((0, 29), 0.20604799484875544), ((0, 30), 0.2406107574913092), ((0, 31), 0.26363503319060544), ((0, 32), 0.007366573173103921), ((0, 33), 0.5880923751912036), ((0, 34), 0.520995876205707), ((0, 35), 0.35563418173474637), ((0, 36), 0.3612826358735786), ((0, 37), 0.01675950444259175), ((0, 38), 0.1322935900028281), ((0, 39), 0.6072285940893312), ((1, 0), 0.44977572139188793), ((1, 1), 0.3359858563939427), ((1, 2), 0.19520387514364357), ((1, 3), 0.02183267242338389), ((1, 4), 0.2690455346224424), ((1, 5), 0.14169813786763602), ((1, 6), 0.4023732968685687), ((1, 7), 0.05484224614541443), ((1, 8), 0.03115821707444866), ((1, 9), 0.22577299999533224), ((1, 10), 0.2842491146658395), ((1, 11), 0.12799840327205775), ((1, 12), 0.4295014995332102), ((1, 13), 0.022719723784334015), ((1, 14), 0.3682212731557745), ((1, 15), 0.019694572715505943), ((1, 16), 0.23030333567644698), ((1, 17), 0.2590158969216105), ((1, 18), 0.31944985473983034), ((1, 19), 0.13579438417559547), ((1, 20), 0.030171133718139363), ((1, 21), 0.39953425525783504), ((1, 22), 0.034119995993169824), ((1, 23), 0.18476552554034265), ((1, 24), 0.09705814487148015), ((1, 25), 0.4029258893291166), ((1, 26), 0.35341921481656624), ((1, 27), 0.2232143921564128), ((1, 28), 0.31837920605581516), ((1, 29), 0.1510341172325995), ((1, 30), 0.17636877942462761), ((1, 31), 0.19324567821568714), ((1, 32), 0.005399731635562772), ((1, 33), 0.43107438538008475), ((1, 34), 0.3818923465006916), ((1, 35), 0.2606814724669945), ((1, 36), 0.26482181503724644), ((1, 37), 0.012284792970689584), ((1, 38), 0.09697180308051552), ((1, 39), 0.44510132085485116)])\n",
            "aa (1, [((0, 0), 0.32682057291521277), ((0, 1), 0.5558340300133744), ((0, 2), 0.3781806660182494), ((0, 3), 0.3622612135355989), ((0, 4), 0.25061281401719865), ((0, 5), 0.2901127887706732), ((0, 6), 0.1800459198123052), ((0, 7), 0.15065792256215646), ((0, 8), 0.3777312905245235), ((0, 9), 0.006245047414614903), ((0, 10), 0.01073535377768427), ((0, 11), 0.5413661073048838), ((0, 12), 0.49973112155120597), ((0, 13), 0.1225176308434831), ((0, 14), 0.2364075809796438), ((0, 15), 0.4988506588753381), ((0, 16), 0.6424481258132065), ((0, 17), 0.16744013953224088), ((0, 18), 0.3070391765304661), ((0, 19), 0.5603952980484178), ((0, 20), 0.003168442164178398), ((0, 21), 0.6342981278868646), ((0, 22), 0.6928204631699904), ((0, 23), 0.04668532641519856), ((0, 24), 0.45390950335228814), ((0, 25), 0.4188856218191969), ((0, 26), 0.6830566896846424), ((0, 27), 0.4347130918706303), ((0, 28), 0.6368914866223951), ((0, 29), 0.5526282622694455), ((0, 30), 0.5197435573422206), ((0, 31), 0.3694988339474583), ((0, 32), 0.3753674210394542), ((0, 33), 0.270697945535103), ((0, 34), 0.07872969533650416), ((0, 35), 0.08240923985031909), ((0, 36), 0.5909602437046321), ((0, 37), 0.10749367906668289), ((0, 38), 0.5082462801104797), ((0, 39), 0.10582285818226857), ((1, 0), 0.15858609423057055), ((1, 1), 0.26971235951883277), ((1, 2), 0.1835080154299502), ((1, 3), 0.17578327592229487), ((1, 4), 0.12160711605334174), ((1, 5), 0.14077404505809807), ((1, 6), 0.08736530552680796), ((1, 7), 0.07310510256715853), ((1, 8), 0.18328996090615676), ((1, 9), 0.0030303406818439), ((1, 10), 0.005209212537021113), ((1, 11), 0.2626919588950185), ((1, 12), 0.24248903924670687), ((1, 13), 0.059450335015756486), ((1, 14), 0.11471418270778605), ((1, 15), 0.24206180440149438), ((1, 16), 0.31174089840696245), ((1, 17), 0.08124848906843042), ((1, 18), 0.14898738885195426), ((1, 19), 0.271925664746114), ((1, 20), 0.0015374517678936465), ((1, 21), 0.30778620140733043), ((1, 22), 0.3361835219768974), ((1, 23), 0.022653541997144578), ((1, 24), 0.22025460217723877), ((1, 25), 0.203259648256244), ((1, 26), 0.3314457581079287), ((1, 27), 0.21093975429919903), ((1, 28), 0.30904460025639313), ((1, 29), 0.26815679592323277), ((1, 30), 0.25219985396019934), ((1, 31), 0.17929525175172956), ((1, 32), 0.18214291919588713), ((1, 33), 0.13135320557004462), ((1, 34), 0.038202720140932074), ((1, 35), 0.03998817871163478), ((1, 36), 0.286756968995881), ((1, 37), 0.0521601273922318), ((1, 38), 0.24662092643368505), ((1, 39), 0.0513493799051485)])\n",
            "240 key-value pairs were sent over a network.\n",
            "[(0, [((0, 1), 1.1518351206427773), ((0, 2), 0.9449004644144315), ((0, 4), 1.2840010915531488), ((0, 5), 0.7435985592303074), ((0, 8), 0.5164544081594187), ((0, 9), 0.40318612027350814), ((0, 11), 1.1346096623744883), ((0, 12), 1.7352866857013887), ((0, 15), 0.7595534624976185), ((0, 16), 1.4533474988455715), ((0, 18), 1.1328143884143407), ((0, 19), 1.21095754089666), ((0, 22), 0.934272868291864), ((0, 23), 0.8628150928278027), ((0, 25), 1.1051646342595043), ((0, 26), 1.7427433122686404), ((0, 29), 1.2223439041567243), ((0, 32), 0.4300701813156395), ((0, 33), 1.079998045865992), ((0, 36), 1.2468650526386242), ((0, 39), 1.3210319158859085), ((1, 0), 1.0972346360786853), ((1, 1), 0.7358773702346144), ((1, 3), 0.5778001889378069), ((1, 4), 1.0209084214609725), ((1, 7), 0.41021919946717783), ((1, 10), 0.8807952348492847), ((1, 11), 0.7866407192929379), ((1, 14), 0.6865649721453013), ((1, 17), 0.5773268430233507), ((1, 18), 0.8372839181328567), ((1, 21), 1.1663358307999832), ((1, 24), 0.3322466754072844), ((1, 25), 0.7353763952182841), ((1, 27), 0.7135645606633088), ((1, 28), 1.0461822461182717), ((1, 31), 0.9040922004179851), ((1, 32), 0.23231521595490517), ((1, 34), 0.8557586613293499), ((1, 35), 0.5824409619075765), ((1, 38), 0.5037302333509732), ((1, 39), 1.0715043028104319)]), (1, [((0, 0), 1.4572912851895947), ((0, 3), 0.7939995159175196), ((0, 6), 0.7411104791125293), ((0, 7), 0.5239107376339908), ((0, 10), 1.0237177758839633), ((0, 13), 0.6050262662071092), ((0, 14), 0.9540418142794289), ((0, 17), 0.7714384247151728), ((0, 20), 0.6093069518322788), ((0, 21), 1.6646599726913056), ((0, 24), 0.6021099116901181), ((0, 27), 1.0346419942789054), ((0, 28), 1.5139757196829688), ((0, 30), 0.8847722134466959), ((0, 31), 1.1951211091812308), ((0, 34), 1.0603347275124932), ((0, 35), 0.735948610804579), ((0, 37), 0.8680632606419707), ((0, 38), 0.8098466503466061), ((1, 2), 0.662855477403735), ((1, 5), 0.5285560882887463), ((1, 6), 0.5012093865893601), ((1, 8), 0.30545293914661237), ((1, 9), 0.3129177581012801), ((1, 12), 1.286418164435687), ((1, 13), 0.5092304061305025), ((1, 15), 0.4829269444742088), ((1, 16), 1.0118521170318506), ((1, 19), 0.8478251935491199), ((1, 20), 0.566088263118478), ((1, 22), 0.5546522071629227), ((1, 23), 0.7409344008130173), ((1, 26), 1.231122120694455), ((1, 29), 0.8577473578788632), ((1, 30), 0.5462483369919394), ((1, 33), 0.7716552006446), ((1, 36), 0.8302448794124616), ((1, 37), 0.7679719079799299)])]\n",
            "[((0, 1), 1.1518351206427773), ((0, 2), 0.9449004644144315), ((0, 4), 1.2840010915531488), ((0, 5), 0.7435985592303074), ((0, 8), 0.5164544081594187), ((0, 9), 0.40318612027350814), ((0, 11), 1.1346096623744883), ((0, 12), 1.7352866857013887), ((0, 15), 0.7595534624976185), ((0, 16), 1.4533474988455715), ((0, 18), 1.1328143884143407), ((0, 19), 1.21095754089666), ((0, 22), 0.934272868291864), ((0, 23), 0.8628150928278027), ((0, 25), 1.1051646342595043), ((0, 26), 1.7427433122686404), ((0, 29), 1.2223439041567243), ((0, 32), 0.4300701813156395), ((0, 33), 1.079998045865992), ((0, 36), 1.2468650526386242), ((0, 39), 1.3210319158859085), ((1, 0), 1.0972346360786853), ((1, 1), 0.7358773702346144), ((1, 3), 0.5778001889378069), ((1, 4), 1.0209084214609725), ((1, 7), 0.41021919946717783), ((1, 10), 0.8807952348492847), ((1, 11), 0.7866407192929379), ((1, 14), 0.6865649721453013), ((1, 17), 0.5773268430233507), ((1, 18), 0.8372839181328567), ((1, 21), 1.1663358307999832), ((1, 24), 0.3322466754072844), ((1, 25), 0.7353763952182841), ((1, 27), 0.7135645606633088), ((1, 28), 1.0461822461182717), ((1, 31), 0.9040922004179851), ((1, 32), 0.23231521595490517), ((1, 34), 0.8557586613293499), ((1, 35), 0.5824409619075765), ((1, 38), 0.5037302333509732), ((1, 39), 1.0715043028104319), ((0, 0), 1.4572912851895947), ((0, 3), 0.7939995159175196), ((0, 6), 0.7411104791125293), ((0, 7), 0.5239107376339908), ((0, 10), 1.0237177758839633), ((0, 13), 0.6050262662071092), ((0, 14), 0.9540418142794289), ((0, 17), 0.7714384247151728), ((0, 20), 0.6093069518322788), ((0, 21), 1.6646599726913056), ((0, 24), 0.6021099116901181), ((0, 27), 1.0346419942789054), ((0, 28), 1.5139757196829688), ((0, 30), 0.8847722134466959), ((0, 31), 1.1951211091812308), ((0, 34), 1.0603347275124932), ((0, 35), 0.735948610804579), ((0, 37), 0.8680632606419707), ((0, 38), 0.8098466503466061), ((1, 2), 0.662855477403735), ((1, 5), 0.5285560882887463), ((1, 6), 0.5012093865893601), ((1, 8), 0.30545293914661237), ((1, 9), 0.3129177581012801), ((1, 12), 1.286418164435687), ((1, 13), 0.5092304061305025), ((1, 15), 0.4829269444742088), ((1, 16), 1.0118521170318506), ((1, 19), 0.8478251935491199), ((1, 20), 0.566088263118478), ((1, 22), 0.5546522071629227), ((1, 23), 0.7409344008130173), ((1, 26), 1.231122120694455), ((1, 29), 0.8577473578788632), ((1, 30), 0.5462483369919394), ((1, 33), 0.7716552006446), ((1, 36), 0.8302448794124616), ((1, 37), 0.7679719079799299)]\n"
          ]
        },
        {
          "data": {
            "text/plain": [
              "True"
            ]
          },
          "execution_count": 38,
          "metadata": {},
          "output_type": "execute_result"
        }
      ],
      "source": [
        "I = 2\n",
        "J = 3\n",
        "K = 4 * 10\n",
        "\n",
        "small_mat = np.random.rand(I, J)\n",
        "big_mat = np.random.rand(J, K)\n",
        "\n",
        "reference_solution = np.matmul(small_mat, big_mat)\n",
        "\n",
        "def asmatrix(reduce_output):\n",
        "    reduce_output = list(reduce_output)\n",
        "    I = max(i for ((i, k), vw) in reduce_output) + 1\n",
        "    K = max(k for ((i, k), vw) in reduce_output) + 1\n",
        "    mat = np.empty(shape=(I, K))\n",
        "    for ((i, k), vw) in reduce_output:\n",
        "        mat[i, k] = vw\n",
        "    return mat\n",
        "\n",
        "def INPUTFORMAT():\n",
        "    first_mat = []\n",
        "    for i in range(small_mat.shape[0]):\n",
        "        for j in range(small_mat.shape[1]):\n",
        "            first_mat.append(((0, i, j), small_mat[i, j]))\n",
        "    \n",
        "    global maps\n",
        "    split_size = int(np.ceil(len(first_mat) / maps))\n",
        "    \n",
        "    for i in range(0, len(first_mat), split_size):\n",
        "        yield first_mat[i:i + split_size]\n",
        "    \n",
        "    second_mat = []\n",
        "    for j in range(big_mat.shape[0]):\n",
        "        for k in range(big_mat.shape[1]):\n",
        "            second_mat.append(((1, j, k), big_mat[j, k]))\n",
        "    \n",
        "    split_size = int(np.ceil(len(second_mat) / maps))\n",
        "    \n",
        "    for i in range(0, len(second_mat), split_size):\n",
        "        yield second_mat[i:i + split_size]\n",
        "\n",
        "def MAP_JOIN(k1, v1):\n",
        "    (mat_num, i, j) = k1\n",
        "    w = v1\n",
        "    if mat_num == 0:\n",
        "        yield (j, (mat_num, i, w))\n",
        "    else:\n",
        "        yield (i, (mat_num, j, w))\n",
        "\n",
        "def REDUCE_JOIN(key, values):\n",
        "    from_first_mat = [v for v in values if v[0] == 0]\n",
        "    from_second_mat = [v for v in values if v[0] == 1]\n",
        "    for f in from_first_mat:\n",
        "        for s in from_second_mat:\n",
        "            yield ((f[1], s[1]), f[2] * s[2])\n",
        "\n",
        "def GET_JOINED():\n",
        "    for j in joined:\n",
        "        print(\"aa\", j)\n",
        "        yield j[1]\n",
        "\n",
        "def MAP_MUL(k1, v1):\n",
        "    yield (k1, v1)\n",
        "\n",
        "def REDUCE_MUL(key, values):\n",
        "    res_val = 0\n",
        "    for v in values:\n",
        "        res_val += v\n",
        "    yield (key, res_val)\n",
        "\n",
        "maps = 3\n",
        "reducers = 2\n",
        "\n",
        "partitioned_output = MapReduceDistributed(INPUTFORMAT, MAP_JOIN, REDUCE_JOIN, COMBINER=None)\n",
        "joined = [(partition_id, list(partition)) for (partition_id, partition) in partitioned_output]\n",
        "print(joined)\n",
        "\n",
        "mul_output = MapReduceDistributed(GET_JOINED, MAP_MUL, REDUCE_MUL, COMBINER=None)\n",
        "pre_result = [(partition_id, list(partition)) for (partition_id, partition) in mul_output]\n",
        "print(pre_result)\n",
        "\n",
        "solution = []\n",
        "for p in pre_result:\n",
        "    for v in p[1]:\n",
        "        solution.append(v)\n",
        "\n",
        "print(solution)\n",
        "\n",
        "np.allclose(reference_solution, asmatrix(solution))"
      ]
    }
  ],
  "metadata": {
    "colab": {
      "collapsed_sections": [
        "QtTFyqke3KGe"
      ],
      "provenance": []
    },
    "kernelspec": {
      "display_name": "COLORIZATION",
      "language": "python",
      "name": "python3"
    },
    "language_info": {
      "codemirror_mode": {
        "name": "ipython",
        "version": 3
      },
      "file_extension": ".py",
      "mimetype": "text/x-python",
      "name": "python",
      "nbconvert_exporter": "python",
      "pygments_lexer": "ipython3",
      "version": "3.12.3"
    }
  },
  "nbformat": 4,
  "nbformat_minor": 0
}
